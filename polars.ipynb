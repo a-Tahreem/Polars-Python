{
 "cells": [
  {
   "cell_type": "markdown",
   "metadata": {},
   "source": [
    "<div style=\"display: flex; align-items: center; justify-content: space-between;\">\n",
    "    <h1 style=\"color:#007BFF; margin: 0;\">Module Polars</h1>\n",
    "    <img src=\"https://raw.githubusercontent.com/pola-rs/polars-static/master/banner/polars_github_banner.svg\" alt=\"Logo Polars\" style=\"height:50px;\">\n",
    "</div>\n"
   ]
  },
  {
   "cell_type": "markdown",
   "metadata": {},
   "source": [
    "Dans ce tutoriel, nous allons explorer la bibliothèque Polars, un outil de traitement de données en Python conçu pour gérer des ensembles de données de grande taille avec une efficacité remarquable. Cette bibliothèsque a été créée en 2019 et la dernière version de Polars est la 1.11.0, publiée récemment avec des mises à jour régulières pour améliorer les performances et ajouter des fonctionnalités . Contrairement à d'autres bibliothèques comme Pandas, Polars est optimisé pour des performances supérieures en termes de vitesse et de mémoire, en particulier sur des volumes de données importants. Grâce à une architecture basée sur le Rust et une gestion de la mémoire en colonne, Polars est capable d'exécuter des opérations intensives en un temps réduit, tout en conservant une syntaxe expressive et intuitive."
   ]
  },
  {
   "cell_type": "markdown",
   "metadata": {},
   "source": [
    "<div style=\"background-color: #f1f8ff; padding: 10px; border-left: 4px solid #007BFF; border-radius: 5px;\">\n",
    "    <strong style=\"display: flex; align-items: center; color: #007BFF;\">\n",
    "        <span style=\"font-size: 1.2em; margin-right: 5px;\"></span>Remarque\n",
    "    </strong>\n",
    "    <p style=\"margin-top: 5px; color: #333;\">\n",
    "        Rust est un langage moderne, rapide et sécurisé, qui minimise les erreurs de mémoire grâce à une gestion efficace. Utilisé dans Polars, il permet des performances élevées et fiables pour le traitement de données massives, en surpassant les bibliothèques Python traditionnelles. \n",
    "    </p>\n",
    "</div>\n",
    "\n"
   ]
  },
  {
   "cell_type": "markdown",
   "metadata": {},
   "source": [
    "<div style=\"display: flex; align-items: center; justify-content: space-between;\">\n",
    "    <h3 style=\"color:#007BFF; margin: 0;\">Pourquoi Polars ?"
   ]
  },
  {
   "cell_type": "markdown",
   "metadata": {},
   "source": [
    "Polars est un excellent choix pour :\n",
    "\n",
    "- Les utilisateurs qui manipulent des données massives et ont besoin de rapidité, même sur des machines avec des ressources limitées.\n",
    "- Les cas où l’efficacité mémoire est cruciale, puisque Polars réduit drastiquement l’empreinte mémoire par rapport à Pandas.\n",
    "- Les flux de travail en Data Science où l’analyse et la transformation de grandes bases de données nécessitent des calculs parallèles."
   ]
  },
  {
   "cell_type": "markdown",
   "metadata": {},
   "source": [
    "<div style=\"display: flex; align-items: center; justify-content: space-between;\">\n",
    "    <h3 style=\"color:#007BFF; margin: 0;\">Objectifs du Notebook"
   ]
  },
  {
   "cell_type": "markdown",
   "metadata": {},
   "source": [
    "Ce notebook vous permettra de :\n",
    "\n",
    "- Découvrir les concepts de base de Polars et ses différences fondamentales avec Pandas.\n",
    "- Comprendre et tester les avantages de performance de Polars, en comparant des opérations courantes de traitement de données entre Polars et Pandas.\n",
    "- Appliquer Polars à un cas pratique en manipulant un jeu de données réel : un ensemble de données sur les protéines kinases. Nous y aborderons les étapes de chargement, de manipulation, d’analyse, et même de visualisation, pour illustrer toute la puissance de Polars dans des scénarios d'analyse de données scientifiques."
   ]
  },
  {
   "cell_type": "markdown",
   "metadata": {},
   "source": [
    "Ce jeu de données sur les kinases nous servira de base pour explorer les fonctionnalités de Polars, permettant de voir comment cette bibliothèque peut transformer les tâches de manipulation de données lourdes en Python et se positionner comme une alternative puissante à Pandas. "
   ]
  },
  {
   "cell_type": "markdown",
   "metadata": {},
   "source": [
    "<div style=\"display: flex; align-items: center; justify-content: space-between;\">\n",
    "    <h1 style=\"color:#007BFF; margin: 0;\"> 1.1 Installation et convention\n"
   ]
  },
  {
   "cell_type": "markdown",
   "metadata": {},
   "source": [
    "Le module polars n'est pas fourni avec la distribution Python de base. Pour l'utiliser, vous devez l'installer séparément à l'aide de pip, l'outil de gestion de paquets de Python. Pour installer Polars directement depuis votre notebook Jupyter, vous pouvez utiliser une cellule de code avec le préfixe ! Voici comment faire :"
   ]
  },
  {
   "cell_type": "code",
   "execution_count": 1,
   "metadata": {},
   "outputs": [
    {
     "name": "stdout",
     "output_type": "stream",
     "text": [
      "Defaulting to user installation because normal site-packages is not writeable\n",
      "Requirement already satisfied: polars in /Users/abbasi/Library/Python/3.9/lib/python/site-packages (1.11.0)\n",
      "\n",
      "\u001b[1m[\u001b[0m\u001b[34;49mnotice\u001b[0m\u001b[1;39;49m]\u001b[0m\u001b[39;49m A new release of pip is available: \u001b[0m\u001b[31;49m24.2\u001b[0m\u001b[39;49m -> \u001b[0m\u001b[32;49m24.3.1\u001b[0m\n",
      "\u001b[1m[\u001b[0m\u001b[34;49mnotice\u001b[0m\u001b[1;39;49m]\u001b[0m\u001b[39;49m To update, run: \u001b[0m\u001b[32;49m/Library/Developer/CommandLineTools/usr/bin/python3 -m pip install --upgrade pip\u001b[0m\n"
     ]
    }
   ],
   "source": [
    "!pip install polars"
   ]
  },
  {
   "cell_type": "markdown",
   "metadata": {},
   "source": [
    "Vous aurez également besoin des modules pandas pour la comparaison, matplotlib pour créer des graphiques et scipy pour réaliser une régression linaire, que vous pouvez installer ainsi :"
   ]
  },
  {
   "cell_type": "code",
   "execution_count": 2,
   "metadata": {},
   "outputs": [
    {
     "name": "stdout",
     "output_type": "stream",
     "text": [
      "Defaulting to user installation because normal site-packages is not writeable\n",
      "Requirement already satisfied: pandas in /Users/abbasi/Library/Python/3.9/lib/python/site-packages (2.2.3)\n",
      "Requirement already satisfied: scipy in /Users/abbasi/Library/Python/3.9/lib/python/site-packages (1.13.1)\n",
      "Requirement already satisfied: matplotlib in /Users/abbasi/Library/Python/3.9/lib/python/site-packages (3.9.2)\n",
      "Requirement already satisfied: numpy>=1.22.4 in /Users/abbasi/Library/Python/3.9/lib/python/site-packages (from pandas) (1.26.4)\n",
      "Requirement already satisfied: python-dateutil>=2.8.2 in /Users/abbasi/Library/Python/3.9/lib/python/site-packages (from pandas) (2.9.0.post0)\n",
      "Requirement already satisfied: pytz>=2020.1 in /Users/abbasi/Library/Python/3.9/lib/python/site-packages (from pandas) (2024.2)\n",
      "Requirement already satisfied: tzdata>=2022.7 in /Users/abbasi/Library/Python/3.9/lib/python/site-packages (from pandas) (2024.2)\n",
      "Requirement already satisfied: contourpy>=1.0.1 in /Users/abbasi/Library/Python/3.9/lib/python/site-packages (from matplotlib) (1.3.0)\n",
      "Requirement already satisfied: cycler>=0.10 in /Users/abbasi/Library/Python/3.9/lib/python/site-packages (from matplotlib) (0.12.1)\n",
      "Requirement already satisfied: fonttools>=4.22.0 in /Users/abbasi/Library/Python/3.9/lib/python/site-packages (from matplotlib) (4.54.1)\n",
      "Requirement already satisfied: kiwisolver>=1.3.1 in /Users/abbasi/Library/Python/3.9/lib/python/site-packages (from matplotlib) (1.4.7)\n",
      "Requirement already satisfied: packaging>=20.0 in /Users/abbasi/Library/Python/3.9/lib/python/site-packages (from matplotlib) (24.1)\n",
      "Requirement already satisfied: pillow>=8 in /Users/abbasi/Library/Python/3.9/lib/python/site-packages (from matplotlib) (11.0.0)\n",
      "Requirement already satisfied: pyparsing>=2.3.1 in /Users/abbasi/Library/Python/3.9/lib/python/site-packages (from matplotlib) (3.2.0)\n",
      "Requirement already satisfied: importlib-resources>=3.2.0 in /Users/abbasi/Library/Python/3.9/lib/python/site-packages (from matplotlib) (6.4.5)\n",
      "Requirement already satisfied: zipp>=3.1.0 in /Users/abbasi/Library/Python/3.9/lib/python/site-packages (from importlib-resources>=3.2.0->matplotlib) (3.20.2)\n",
      "Requirement already satisfied: six>=1.5 in /Library/Developer/CommandLineTools/Library/Frameworks/Python3.framework/Versions/3.9/lib/python3.9/site-packages (from python-dateutil>=2.8.2->pandas) (1.15.0)\n",
      "\n",
      "\u001b[1m[\u001b[0m\u001b[34;49mnotice\u001b[0m\u001b[1;39;49m]\u001b[0m\u001b[39;49m A new release of pip is available: \u001b[0m\u001b[31;49m24.2\u001b[0m\u001b[39;49m -> \u001b[0m\u001b[32;49m24.3.1\u001b[0m\n",
      "\u001b[1m[\u001b[0m\u001b[34;49mnotice\u001b[0m\u001b[1;39;49m]\u001b[0m\u001b[39;49m To update, run: \u001b[0m\u001b[32;49m/Library/Developer/CommandLineTools/usr/bin/python3 -m pip install --upgrade pip\u001b[0m\n"
     ]
    }
   ],
   "source": [
    "!pip install pandas scipy matplotlib"
   ]
  },
  {
   "cell_type": "markdown",
   "metadata": {},
   "source": [
    "<div style=\"display: flex; align-items: center; justify-content: space-between;\">\n",
    "    <h1 style=\"color:#007BFF; margin: 0;\"> 1.2 Chargement du module"
   ]
  },
  {
   "cell_type": "markdown",
   "metadata": {},
   "source": [
    "Pour charger les modules dans la mémoire de Python, on utilise la commande import habituelle et par convention on utilise des noms raccourcis : "
   ]
  },
  {
   "cell_type": "code",
   "execution_count": 3,
   "metadata": {},
   "outputs": [],
   "source": [
    "import polars as pl\n",
    "import pandas as pd\n",
    "from scipy.stats import linregress\n",
    "import matplotlib.pyplot as plt\n",
    "import time"
   ]
  },
  {
   "cell_type": "markdown",
   "metadata": {},
   "source": [
    "- **Ligne 3** : La fonction linregress du module scipy.stats pour effectuer une régression linéaire sur les données.\n",
    "- **Ligne 4** : Le module pyplot de Matplotlib, qui est utilisé pour créer des visualisations graphiques en Python.\n",
    "- **Ligne 5** : Le module time (integré par défaut dans python) pour mesurer le temps d'exécution du code "
   ]
  },
  {
   "cell_type": "markdown",
   "metadata": {},
   "source": [
    "<div style=\"display: flex; align-items: center; justify-content: space-between;\">\n",
    "    <h1 style=\"color:#007BFF; margin: 0;\"> 2. Présentation des données"
   ]
  },
  {
   "cell_type": "markdown",
   "metadata": {},
   "source": [
    "<div style=\"display: flex; align-items: center; justify-content: space-between;\">\n",
    "    <h3 style=\"color:#007BFF; margin: 0;\"> 2.1 Chargement des données"
   ]
  },
  {
   "cell_type": "markdown",
   "metadata": {},
   "source": [
    "Nous chargeons le fichier CSV contenant les données des kinases en utilisant pandas et polars afin de comparer les performances des deux bibliothèques en termes de temps de lecture.    "
   ]
  },
  {
   "cell_type": "markdown",
   "metadata": {},
   "source": [
    "<div style=\"background-color: #f1f8ff; padding: 10px; border-left: 4px solid #007BFF; border-radius: 5px;\">\n",
    "    <strong style=\"display: flex; align-items: center; color: #007BFF;\">\n",
    "        <span style=\"font-size: 1.2em; margin-right: 5px;\"></span>Remarque\n",
    "    </strong>\n",
    "    <p style=\"margin-top: 5px; color: #333;\">\n",
    "        Vous devez recuperer le fichier  \"kinases.csv\" dans le dossier et mettre le fichier dans le même répertoire que le notebook ou changer le path à la ligne 1 du code suivant. \n",
    "    </p>\n",
    "</div>\n",
    "\n"
   ]
  },
  {
   "cell_type": "code",
   "execution_count": 4,
   "metadata": {},
   "outputs": [
    {
     "name": "stdout",
     "output_type": "stream",
     "text": [
      "Pandas read time = 0.0032 secondes\n",
      "Polars read time = 0.0053 secondes\n"
     ]
    }
   ],
   "source": [
    "file_path = \"kinases.csv\"\n",
    "\n",
    "start_time = time.time()\n",
    "pandas_df = pd.read_csv(file_path)\n",
    "pandas_read_time = time.time() - start_time\n",
    "\n",
    "start_time = time.time()\n",
    "polars_df = pl.read_csv(file_path)\n",
    "polars_read_time = time.time() - start_time\n",
    "\n",
    "print(f\"Pandas read time = {pandas_read_time:.4f} secondes\")\n",
    "print(f\"Polars read time = {polars_read_time:.4f} secondes\")"
   ]
  },
  {
   "cell_type": "markdown",
   "metadata": {},
   "source": [
    "- **Ligne 3 à 5** : Mesure du temps de lecture pour pandas                                             \n",
    "- **Ligne 7 à 9** : Mesure du temps de lecture pour pandas\n",
    "\n",
    "\n",
    "- **time.time()** : cette fonction renvoie le temps actuel en secondes (depuis le 1er janvier 1970).                                                                                         \n",
    "- **pandas_read_time** et **polars_read_time**: on calcule le temps mis pour lire le CSV en comparant le temps de départ et le temps actuel "
   ]
  },
  {
   "cell_type": "markdown",
   "metadata": {},
   "source": [
    "On observe que Polars est nettement plus rapide que Pandas pour la lecture de fichiers. Cela s'explique par l'optimisation de Polars pour les performances, notamment via le parallélisme, ce qui le rend souvent plus efficace pour le traitement de grandes quantités de données."
   ]
  },
  {
   "cell_type": "markdown",
   "metadata": {},
   "source": [
    "<div style=\"display: flex; align-items: center; justify-content: space-between;\">\n",
    "    <h3 style=\"color:#007BFF; margin: 0;\"> 2.2 Affichage des premières et dernières lignes "
   ]
  },
  {
   "cell_type": "markdown",
   "metadata": {},
   "source": [
    "Après avoir telechargé les données, nous examinons les premières et dernières lignes des DataFrames : "
   ]
  },
  {
   "cell_type": "markdown",
   "metadata": {},
   "source": [
    "<div style=\"background-color: #e6f0ff; padding: 12px; border-left: 4px solid #004085; border-radius: 5px; margin-bottom: 10px;\">\n",
    "    <strong style=\"color: #004085; font-size: 1.1em;\">\n",
    "        🔹 Avec Pandas\n",
    "    </strong>\n",
    "</div>"
   ]
  },
  {
   "cell_type": "code",
   "execution_count": 5,
   "metadata": {},
   "outputs": [
    {
     "data": {
      "text/html": [
       "<div>\n",
       "<style scoped>\n",
       "    .dataframe tbody tr th:only-of-type {\n",
       "        vertical-align: middle;\n",
       "    }\n",
       "\n",
       "    .dataframe tbody tr th {\n",
       "        vertical-align: top;\n",
       "    }\n",
       "\n",
       "    .dataframe thead th {\n",
       "        text-align: right;\n",
       "    }\n",
       "</style>\n",
       "<table border=\"1\" class=\"dataframe\">\n",
       "  <thead>\n",
       "    <tr style=\"text-align: right;\">\n",
       "      <th></th>\n",
       "      <th>Entry</th>\n",
       "      <th>Organism</th>\n",
       "      <th>Length</th>\n",
       "      <th>Creation date</th>\n",
       "      <th>Mass</th>\n",
       "      <th>PDB</th>\n",
       "    </tr>\n",
       "  </thead>\n",
       "  <tbody>\n",
       "    <tr>\n",
       "      <th>0</th>\n",
       "      <td>A0A0B4J2F2</td>\n",
       "      <td>Human</td>\n",
       "      <td>783</td>\n",
       "      <td>2018-06-20</td>\n",
       "      <td>84930</td>\n",
       "      <td>NaN</td>\n",
       "    </tr>\n",
       "    <tr>\n",
       "      <th>1</th>\n",
       "      <td>A4L9P5</td>\n",
       "      <td>Rat</td>\n",
       "      <td>1211</td>\n",
       "      <td>2007-07-24</td>\n",
       "      <td>130801</td>\n",
       "      <td>NaN</td>\n",
       "    </tr>\n",
       "    <tr>\n",
       "      <th>2</th>\n",
       "      <td>A0A1D6E0S8</td>\n",
       "      <td>Maize</td>\n",
       "      <td>856</td>\n",
       "      <td>2023-05-03</td>\n",
       "      <td>93153</td>\n",
       "      <td>NaN</td>\n",
       "    </tr>\n",
       "    <tr>\n",
       "      <th>3</th>\n",
       "      <td>A0A8I5ZNK2</td>\n",
       "      <td>Rat</td>\n",
       "      <td>528</td>\n",
       "      <td>2023-09-13</td>\n",
       "      <td>58360</td>\n",
       "      <td>NaN</td>\n",
       "    </tr>\n",
       "    <tr>\n",
       "      <th>4</th>\n",
       "      <td>A1Z7T0</td>\n",
       "      <td>Fruit fly</td>\n",
       "      <td>1190</td>\n",
       "      <td>2012-01-25</td>\n",
       "      <td>131791</td>\n",
       "      <td>NaN</td>\n",
       "    </tr>\n",
       "  </tbody>\n",
       "</table>\n",
       "</div>"
      ],
      "text/plain": [
       "        Entry   Organism  Length Creation date    Mass  PDB\n",
       "0  A0A0B4J2F2      Human     783    2018-06-20   84930  NaN\n",
       "1      A4L9P5        Rat    1211    2007-07-24  130801  NaN\n",
       "2  A0A1D6E0S8      Maize     856    2023-05-03   93153  NaN\n",
       "3  A0A8I5ZNK2        Rat     528    2023-09-13   58360  NaN\n",
       "4      A1Z7T0  Fruit fly    1190    2012-01-25  131791  NaN"
      ]
     },
     "execution_count": 5,
     "metadata": {},
     "output_type": "execute_result"
    }
   ],
   "source": [
    "pandas_df.head()"
   ]
  },
  {
   "cell_type": "code",
   "execution_count": 6,
   "metadata": {},
   "outputs": [
    {
     "data": {
      "text/html": [
       "<div>\n",
       "<style scoped>\n",
       "    .dataframe tbody tr th:only-of-type {\n",
       "        vertical-align: middle;\n",
       "    }\n",
       "\n",
       "    .dataframe tbody tr th {\n",
       "        vertical-align: top;\n",
       "    }\n",
       "\n",
       "    .dataframe thead th {\n",
       "        text-align: right;\n",
       "    }\n",
       "</style>\n",
       "<table border=\"1\" class=\"dataframe\">\n",
       "  <thead>\n",
       "    <tr style=\"text-align: right;\">\n",
       "      <th></th>\n",
       "      <th>Entry</th>\n",
       "      <th>Organism</th>\n",
       "      <th>Length</th>\n",
       "      <th>Creation date</th>\n",
       "      <th>Mass</th>\n",
       "      <th>PDB</th>\n",
       "    </tr>\n",
       "  </thead>\n",
       "  <tbody>\n",
       "    <tr>\n",
       "      <th>1437</th>\n",
       "      <td>Q8QZX0</td>\n",
       "      <td>Mouse</td>\n",
       "      <td>417</td>\n",
       "      <td>2006-05-30</td>\n",
       "      <td>45696</td>\n",
       "      <td>NaN</td>\n",
       "    </tr>\n",
       "    <tr>\n",
       "      <th>1438</th>\n",
       "      <td>Q8R2S1</td>\n",
       "      <td>Mouse</td>\n",
       "      <td>544</td>\n",
       "      <td>2006-04-18</td>\n",
       "      <td>60193</td>\n",
       "      <td>NaN</td>\n",
       "    </tr>\n",
       "    <tr>\n",
       "      <th>1439</th>\n",
       "      <td>Q9JJX8</td>\n",
       "      <td>Mouse</td>\n",
       "      <td>414</td>\n",
       "      <td>2006-04-18</td>\n",
       "      <td>47916</td>\n",
       "      <td>NaN</td>\n",
       "    </tr>\n",
       "    <tr>\n",
       "      <th>1440</th>\n",
       "      <td>Q9TTK0</td>\n",
       "      <td>Rabbit</td>\n",
       "      <td>566</td>\n",
       "      <td>2005-11-22</td>\n",
       "      <td>64053</td>\n",
       "      <td>NaN</td>\n",
       "    </tr>\n",
       "    <tr>\n",
       "      <th>1441</th>\n",
       "      <td>Q5F361</td>\n",
       "      <td>Chicken</td>\n",
       "      <td>893</td>\n",
       "      <td>2007-01-23</td>\n",
       "      <td>100453</td>\n",
       "      <td>NaN</td>\n",
       "    </tr>\n",
       "  </tbody>\n",
       "</table>\n",
       "</div>"
      ],
      "text/plain": [
       "       Entry Organism  Length Creation date    Mass  PDB\n",
       "1437  Q8QZX0    Mouse     417    2006-05-30   45696  NaN\n",
       "1438  Q8R2S1    Mouse     544    2006-04-18   60193  NaN\n",
       "1439  Q9JJX8    Mouse     414    2006-04-18   47916  NaN\n",
       "1440  Q9TTK0   Rabbit     566    2005-11-22   64053  NaN\n",
       "1441  Q5F361  Chicken     893    2007-01-23  100453  NaN"
      ]
     },
     "execution_count": 6,
     "metadata": {},
     "output_type": "execute_result"
    }
   ],
   "source": [
    "pandas_df.tail()"
   ]
  },
  {
   "cell_type": "markdown",
   "metadata": {},
   "source": [
    "<div style=\"background-color: #e6f0ff; padding: 12px; border-left: 4px solid #004085; border-radius: 5px; margin-bottom: 10px;\">\n",
    "    <strong style=\"color: #004085; font-size: 1.1em;\">\n",
    "        🔹 Avec Polars\n",
    "    </strong>\n",
    "</div>"
   ]
  },
  {
   "cell_type": "code",
   "execution_count": 7,
   "metadata": {},
   "outputs": [
    {
     "data": {
      "text/html": [
       "<div><style>\n",
       ".dataframe > thead > tr,\n",
       ".dataframe > tbody > tr {\n",
       "  text-align: right;\n",
       "  white-space: pre-wrap;\n",
       "}\n",
       "</style>\n",
       "<small>shape: (5, 6)</small><table border=\"1\" class=\"dataframe\"><thead><tr><th>Entry</th><th>Organism</th><th>Length</th><th>Creation date</th><th>Mass</th><th>PDB</th></tr><tr><td>str</td><td>str</td><td>i64</td><td>str</td><td>i64</td><td>str</td></tr></thead><tbody><tr><td>&quot;A0A0B4J2F2&quot;</td><td>&quot;Human&quot;</td><td>783</td><td>&quot;2018-06-20&quot;</td><td>84930</td><td>null</td></tr><tr><td>&quot;A4L9P5&quot;</td><td>&quot;Rat&quot;</td><td>1211</td><td>&quot;2007-07-24&quot;</td><td>130801</td><td>null</td></tr><tr><td>&quot;A0A1D6E0S8&quot;</td><td>&quot;Maize&quot;</td><td>856</td><td>&quot;2023-05-03&quot;</td><td>93153</td><td>null</td></tr><tr><td>&quot;A0A8I5ZNK2&quot;</td><td>&quot;Rat&quot;</td><td>528</td><td>&quot;2023-09-13&quot;</td><td>58360</td><td>null</td></tr><tr><td>&quot;A1Z7T0&quot;</td><td>&quot;Fruit fly&quot;</td><td>1190</td><td>&quot;2012-01-25&quot;</td><td>131791</td><td>null</td></tr></tbody></table></div>"
      ],
      "text/plain": [
       "shape: (5, 6)\n",
       "┌────────────┬───────────┬────────┬───────────────┬────────┬──────┐\n",
       "│ Entry      ┆ Organism  ┆ Length ┆ Creation date ┆ Mass   ┆ PDB  │\n",
       "│ ---        ┆ ---       ┆ ---    ┆ ---           ┆ ---    ┆ ---  │\n",
       "│ str        ┆ str       ┆ i64    ┆ str           ┆ i64    ┆ str  │\n",
       "╞════════════╪═══════════╪════════╪═══════════════╪════════╪══════╡\n",
       "│ A0A0B4J2F2 ┆ Human     ┆ 783    ┆ 2018-06-20    ┆ 84930  ┆ null │\n",
       "│ A4L9P5     ┆ Rat       ┆ 1211   ┆ 2007-07-24    ┆ 130801 ┆ null │\n",
       "│ A0A1D6E0S8 ┆ Maize     ┆ 856    ┆ 2023-05-03    ┆ 93153  ┆ null │\n",
       "│ A0A8I5ZNK2 ┆ Rat       ┆ 528    ┆ 2023-09-13    ┆ 58360  ┆ null │\n",
       "│ A1Z7T0     ┆ Fruit fly ┆ 1190   ┆ 2012-01-25    ┆ 131791 ┆ null │\n",
       "└────────────┴───────────┴────────┴───────────────┴────────┴──────┘"
      ]
     },
     "execution_count": 7,
     "metadata": {},
     "output_type": "execute_result"
    }
   ],
   "source": [
    "polars_df.head()"
   ]
  },
  {
   "cell_type": "code",
   "execution_count": 8,
   "metadata": {},
   "outputs": [
    {
     "data": {
      "text/html": [
       "<div><style>\n",
       ".dataframe > thead > tr,\n",
       ".dataframe > tbody > tr {\n",
       "  text-align: right;\n",
       "  white-space: pre-wrap;\n",
       "}\n",
       "</style>\n",
       "<small>shape: (5, 6)</small><table border=\"1\" class=\"dataframe\"><thead><tr><th>Entry</th><th>Organism</th><th>Length</th><th>Creation date</th><th>Mass</th><th>PDB</th></tr><tr><td>str</td><td>str</td><td>i64</td><td>str</td><td>i64</td><td>str</td></tr></thead><tbody><tr><td>&quot;Q8QZX0&quot;</td><td>&quot;Mouse&quot;</td><td>417</td><td>&quot;2006-05-30&quot;</td><td>45696</td><td>null</td></tr><tr><td>&quot;Q8R2S1&quot;</td><td>&quot;Mouse&quot;</td><td>544</td><td>&quot;2006-04-18&quot;</td><td>60193</td><td>null</td></tr><tr><td>&quot;Q9JJX8&quot;</td><td>&quot;Mouse&quot;</td><td>414</td><td>&quot;2006-04-18&quot;</td><td>47916</td><td>null</td></tr><tr><td>&quot;Q9TTK0&quot;</td><td>&quot;Rabbit&quot;</td><td>566</td><td>&quot;2005-11-22&quot;</td><td>64053</td><td>null</td></tr><tr><td>&quot;Q5F361&quot;</td><td>&quot;Chicken&quot;</td><td>893</td><td>&quot;2007-01-23&quot;</td><td>100453</td><td>null</td></tr></tbody></table></div>"
      ],
      "text/plain": [
       "shape: (5, 6)\n",
       "┌────────┬──────────┬────────┬───────────────┬────────┬──────┐\n",
       "│ Entry  ┆ Organism ┆ Length ┆ Creation date ┆ Mass   ┆ PDB  │\n",
       "│ ---    ┆ ---      ┆ ---    ┆ ---           ┆ ---    ┆ ---  │\n",
       "│ str    ┆ str      ┆ i64    ┆ str           ┆ i64    ┆ str  │\n",
       "╞════════╪══════════╪════════╪═══════════════╪════════╪══════╡\n",
       "│ Q8QZX0 ┆ Mouse    ┆ 417    ┆ 2006-05-30    ┆ 45696  ┆ null │\n",
       "│ Q8R2S1 ┆ Mouse    ┆ 544    ┆ 2006-04-18    ┆ 60193  ┆ null │\n",
       "│ Q9JJX8 ┆ Mouse    ┆ 414    ┆ 2006-04-18    ┆ 47916  ┆ null │\n",
       "│ Q9TTK0 ┆ Rabbit   ┆ 566    ┆ 2005-11-22    ┆ 64053  ┆ null │\n",
       "│ Q5F361 ┆ Chicken  ┆ 893    ┆ 2007-01-23    ┆ 100453 ┆ null │\n",
       "└────────┴──────────┴────────┴───────────────┴────────┴──────┘"
      ]
     },
     "execution_count": 8,
     "metadata": {},
     "output_type": "execute_result"
    }
   ],
   "source": [
    "polars_df.tail()"
   ]
  },
  {
   "cell_type": "markdown",
   "metadata": {},
   "source": [
    "- La méthode <span style=\"color:blue\">head()</span> affiche les premières lignes d'un DataFrame. Par défaut, elle renvoie les 5 premières lignes, mais on peut préciser le nombre de lignes en passant un argument (par exemple, head(10) pour 10 lignes).\n",
    "- La méthode <span style=\"color:blue\">tail()</span> renvoie les dernières lignes d'un DataFrame. Par défaut, elle affiche les 5 dernières lignes, avec la possibilité de spécifier un autre nombre.\n",
    "\n",
    "Ces méthodes permettent de visualiser un échantillon du contenu, utile pour comprendre la structure et les valeurs initiales des données. Polars utilise une architecture par colonnes optimisée, idéale pour les grands ensembles de données. Il identifie et affiche également le type de chaque variable, par exemple i64 pour un entier 64 bits, permettant une gestion de données plus efficace."
   ]
  },
  {
   "cell_type": "markdown",
   "metadata": {},
   "source": [
    "<div style=\"display: flex; align-items: center; justify-content: space-between;\">\n",
    "    <h3 style=\"color:#007BFF; margin: 0;\"> 2.3 Affichage du type de données "
   ]
  },
  {
   "cell_type": "markdown",
   "metadata": {},
   "source": [
    "Dans cette section, nous explorons les types de données des colonnes de nos deux DataFrames. Connaître le type de chaque colonne est crucial pour choisir les bonnes opérations et éviter les erreurs (par exemple, effectuer des opérations mathématiques sur des colonnes de texte). \n",
    "\n",
    "On utlise la méthode <span style=\"color:blue\">.dtypes</span> pour afficher le type de données de chaque colonne. "
   ]
  },
  {
   "cell_type": "markdown",
   "metadata": {},
   "source": [
    "<div style=\"background-color: #e6f0ff; padding: 12px; border-left: 4px solid #004085; border-radius: 5px; margin-bottom: 10px;\">\n",
    "    <strong style=\"color: #004085; font-size: 1.1em;\">\n",
    "        🔹 Avec Pandas\n",
    "    </strong>\n",
    "</div>"
   ]
  },
  {
   "cell_type": "code",
   "execution_count": 9,
   "metadata": {},
   "outputs": [
    {
     "data": {
      "text/plain": [
       "Entry            object\n",
       "Organism         object\n",
       "Length            int64\n",
       "Creation date    object\n",
       "Mass              int64\n",
       "PDB              object\n",
       "dtype: object"
      ]
     },
     "execution_count": 9,
     "metadata": {},
     "output_type": "execute_result"
    }
   ],
   "source": [
    "pandas_df.dtypes"
   ]
  },
  {
   "cell_type": "markdown",
   "metadata": {},
   "source": [
    "Cette méthode nous renvoie les types de données standards, tels que int64 pour les entiers, float64 pour les flottants, object pour les chaînes de caractères, et datetime64[ns] pour les dates. Les chaînes de caractères sont stockées par défaut en tant que object, ce qui peut parfois rendre leur manipulation moins performante. "
   ]
  },
  {
   "cell_type": "markdown",
   "metadata": {},
   "source": [
    "<div style=\"background-color: #e6f0ff; padding: 12px; border-left: 4px solid #004085; border-radius: 5px; margin-bottom: 10px;\">\n",
    "    <strong style=\"color: #004085; font-size: 1.1em;\">\n",
    "        🔹 Avec Polars\n",
    "    </strong>\n",
    "</div>"
   ]
  },
  {
   "cell_type": "code",
   "execution_count": 10,
   "metadata": {},
   "outputs": [
    {
     "data": {
      "text/plain": [
       "[String, String, Int64, String, Int64, String]"
      ]
     },
     "execution_count": 10,
     "metadata": {},
     "output_type": "execute_result"
    }
   ],
   "source": [
    "polars_df.dtypes"
   ]
  },
  {
   "cell_type": "markdown",
   "metadata": {},
   "source": [
    "On observe que cette méthode affiche une liste des types de données de chaque colonne dans le DataFrame. Les types de données en Polars sont présentés sous une forme abrégée, ce qui les rend plus compacts. Par exemple, vous pourriez voir des types comme i64 pour un entier 64 bits, f64 pour un flottant 64 bits, Utf8 pour des chaînes de caractères et Date pour des colonnes de dates."
   ]
  },
  {
   "cell_type": "markdown",
   "metadata": {},
   "source": [
    "<div style=\"background-color: #f1f8ff; padding: 10px; border-left: 4px solid #007BFF; border-radius: 5px;\">\n",
    "    <strong style=\"display: flex; align-items: center; color: #007BFF;\">\n",
    "        <span style=\"font-size: 1.2em; margin-right: 5px;\"></span>Remarque\n",
    "    </strong>\n",
    "    <p style=\"margin-top: 5px; color: #333;\">\n",
    "        Il est courant qu'un type de données soit mal interprété dans un DataFrame (par exemple, une colonne numérique traitée comme du texte). Heureusement, il est possible de corriger ces erreurs grâce à des méthodes de conversion disponibles dans Pandas et Polars.<br><br>\n",
    "        Avec Pandas, vous pouvez utiliser des méthodes telles que <code>pd.to_numeric()</code>, <code>pd.to_datetime()</code> et <code>astype()</code>.<br>\n",
    "        Avec Polars, vous pouvez également utiliser la méthode <code>.cast()</code> pour changer le type d'une colonne.\n",
    "    </p>\n",
    "</div>\n"
   ]
  },
  {
   "cell_type": "markdown",
   "metadata": {},
   "source": [
    "<div style=\"display: flex; align-items: center; justify-content: space-between;\">\n",
    "    <h3 style=\"color:#007BFF; margin: 0;\"> 2.4 Afficher les dimensions d'un DataFrame "
   ]
  },
  {
   "cell_type": "markdown",
   "metadata": {},
   "source": [
    "Pour afficher les dimensions d’un DataFrame avec les deux bibliothèques, on utilise la propriété <code>.shape</code> Cette propriété retourne les dimensions du DataFrame sous la forme d’un tuple (nombre_de_lignes, nombre_de_colonnes), ce qui permet de savoir rapidement combien d'observations et de variables sont présentes."
   ]
  },
  {
   "cell_type": "code",
   "execution_count": 11,
   "metadata": {},
   "outputs": [
    {
     "data": {
      "text/plain": [
       "(1442, 6)"
      ]
     },
     "execution_count": 11,
     "metadata": {},
     "output_type": "execute_result"
    }
   ],
   "source": [
    "pandas_df.shape"
   ]
  },
  {
   "cell_type": "code",
   "execution_count": 12,
   "metadata": {},
   "outputs": [
    {
     "data": {
      "text/plain": [
       "(1442, 6)"
      ]
     },
     "execution_count": 12,
     "metadata": {},
     "output_type": "execute_result"
    }
   ],
   "source": [
    "polars_df.shape"
   ]
  },
  {
   "cell_type": "markdown",
   "metadata": {},
   "source": [
    "<div style=\"background-color: #f1f8ff; padding: 10px; border-left: 4px solid #007BFF; border-radius: 5px;\">\n",
    "    <strong style=\"display: flex; align-items: center; color: #007BFF;\">\n",
    "        <span style=\"font-size: 1.2em; margin-right: 5px;\"></span>Remarque\n",
    "    </strong>\n",
    "    <p style=\"margin-top: 5px; color: #333;\">\n",
    "        Contrairement à certaines méthodes, <code>.shape</code>  est une propriété (et non une méthode), ce qui signifie qu'il ne nécessite pas de parenthèses pour être utilisé.\n",
    "    </p>\n",
    "</div>"
   ]
  },
  {
   "cell_type": "markdown",
   "metadata": {},
   "source": [
    "<div style=\"display: flex; align-items: center; justify-content: space-between;\">\n",
    "    <h1 style=\"color:#007BFF; margin: 0;\"> 3. Statistiques"
   ]
  },
  {
   "cell_type": "markdown",
   "metadata": {},
   "source": [
    "<div style=\"display: flex; align-items: center; justify-content: space-between;\">\n",
    "    <h3 style=\"color:#007BFF; margin: 0;\"> 3.1 Statistiques Descriptives"
   ]
  },
  {
   "cell_type": "markdown",
   "metadata": {},
   "source": [
    "A présent, nous allons calculer des statistiques descriptives de base (moyenne, écart-type, minimum, maximum, etc.) pour les colonnes numériques avec Pandas et Polars. On utilise la méthode <code>.describe()</code> pour obtenir des statistiques descriptives."
   ]
  },
  {
   "cell_type": "markdown",
   "metadata": {},
   "source": [
    "<div style=\"background-color: #e6f0ff; padding: 12px; border-left: 4px solid #004085; border-radius: 5px; margin-bottom: 10px;\">\n",
    "    <strong style=\"color: #004085; font-size: 1.1em;\">\n",
    "        🔹 Avec Pandas\n",
    "    </strong>\n",
    "</div>"
   ]
  },
  {
   "cell_type": "code",
   "execution_count": 13,
   "metadata": {},
   "outputs": [],
   "source": [
    "start_time = time.time()\n",
    "pandas_describe = pandas_df.describe()\n",
    "pandas_describe_time = time.time() - start_time"
   ]
  },
  {
   "cell_type": "markdown",
   "metadata": {},
   "source": [
    "<div style=\"background-color: #e6f0ff; padding: 12px; border-left: 4px solid #004085; border-radius: 5px; margin-bottom: 10px;\">\n",
    "    <strong style=\"color: #004085; font-size: 1.1em;\">\n",
    "        🔹 Avec Polars\n",
    "    </strong>\n",
    "</div>"
   ]
  },
  {
   "cell_type": "code",
   "execution_count": 14,
   "metadata": {},
   "outputs": [],
   "source": [
    "start_time = time.time()\n",
    "polars_describe = polars_df.describe()\n",
    "polars_describe_time = time.time() - start_time"
   ]
  },
  {
   "cell_type": "markdown",
   "metadata": {},
   "source": [
    "<div style=\"background-color: #e6f0ff; padding: 12px; border-left: 4px solid #004085; border-radius: 5px; margin-bottom: 10px;\">\n",
    "    <strong style=\"color: #004085; font-size: 1.1em;\">\n",
    "        🔹 Résultats \n",
    "    </strong>\n",
    "</div>"
   ]
  },
  {
   "cell_type": "code",
   "execution_count": 15,
   "metadata": {},
   "outputs": [
    {
     "name": "stdout",
     "output_type": "stream",
     "text": [
      "Pandas:\n",
      "             Length           Mass\n",
      "count  1442.000000    1442.000000\n",
      "mean    756.139390   84710.753814\n",
      "std     404.195273   44764.273097\n",
      "min      81.000000    9405.000000\n",
      "25%     476.250000   54059.000000\n",
      "50%     632.000000   71613.000000\n",
      "75%     949.250000  105485.250000\n",
      "max    2986.000000  340261.000000 \n",
      "\n",
      "Polars:\n",
      " shape: (9, 7)\n",
      "┌────────────┬────────────┬──────────┬────────────┬───────────────┬──────────────┬─────────────────┐\n",
      "│ statistic  ┆ Entry      ┆ Organism ┆ Length     ┆ Creation date ┆ Mass         ┆ PDB             │\n",
      "│ ---        ┆ ---        ┆ ---      ┆ ---        ┆ ---           ┆ ---          ┆ ---             │\n",
      "│ str        ┆ str        ┆ str      ┆ f64        ┆ str           ┆ f64          ┆ str             │\n",
      "╞════════════╪════════════╪══════════╪════════════╪═══════════════╪══════════════╪═════════════════╡\n",
      "│ count      ┆ 1442       ┆ 1442     ┆ 1442.0     ┆ 1442          ┆ 1442.0       ┆ 488             │\n",
      "│ null_count ┆ 0          ┆ 0        ┆ 0.0        ┆ 0             ┆ 0.0          ┆ 954             │\n",
      "│ mean       ┆ null       ┆ null     ┆ 756.13939  ┆ null          ┆ 84710.753814 ┆ null            │\n",
      "│ std        ┆ null       ┆ null     ┆ 404.195273 ┆ null          ┆ 44764.273097 ┆ null            │\n",
      "│ min        ┆ A0A0B4J2F2 ┆ Chicken  ┆ 81.0       ┆ 1986-07-21    ┆ 9405.0       ┆ 1A06;1MXE;2L7L; │\n",
      "│ 25%        ┆ null       ┆ null     ┆ 476.0      ┆ null          ┆ 54053.0      ┆ null            │\n",
      "│ 50%        ┆ null       ┆ null     ┆ 632.0      ┆ null          ┆ 71629.0      ┆ null            │\n",
      "│ 75%        ┆ null       ┆ null     ┆ 950.0      ┆ null          ┆ 105489.0     ┆ null            │\n",
      "│ max        ┆ Q9Z335     ┆ Rat      ┆ 2986.0     ┆ 2023-09-13    ┆ 340261.0     ┆ 8S9P;           │\n",
      "└────────────┴────────────┴──────────┴────────────┴───────────────┴──────────────┴─────────────────┘\n"
     ]
    }
   ],
   "source": [
    "print(\"Pandas:\\n\", pandas_describe, \"\\n\")\n",
    "print(\"Polars:\\n\", polars_describe)"
   ]
  },
  {
   "cell_type": "markdown",
   "metadata": {},
   "source": [
    "On observe que Pandas affiche les statistiques avec les noms des colonnes utilisés comme en-têtes, et le type de sortie est un DataFrame. Polars a une sortie similaire à celle de Pandas, mais indique la forme (shape) du DataFrame et affiche explicitement les types de données (par exemple, f64 pour les nombres à virgule flottante). De plus, il inclut les statistiques additionnelles telles que `null_count` (nombre de valeurs manquantes) pour chaque colonne, ce qui peut être utile pour l'analyse de la qualité des données. \n"
   ]
  },
  {
   "cell_type": "code",
   "execution_count": 16,
   "metadata": {},
   "outputs": [
    {
     "name": "stdout",
     "output_type": "stream",
     "text": [
      "Pandas describe time: 0.0023 seconds\n",
      "Polars describe time: 0.0020 seconds\n"
     ]
    }
   ],
   "source": [
    "print(f\"Pandas describe time: {pandas_describe_time:.4f} seconds\")\n",
    "print(f\"Polars describe time: {polars_describe_time:.4f} seconds\")"
   ]
  },
  {
   "cell_type": "markdown",
   "metadata": {},
   "source": [
    "<div style=\"display: flex; align-items: center; justify-content: space-between;\">\n",
    "    <h3 style=\"color:#007BFF; margin: 0;\"> 3.2 Tables de comptage"
   ]
  },
  {
   "cell_type": "markdown",
   "metadata": {},
   "source": [
    "A présent, l'objectif est de compter le nombre d'occurrences de chaque type d'organisme dans la colonne \"Organism\" du DataFrame. La colonne \"Organism\" contient des chaînes de caractères (strings) représentant différents organismes. En comptant ces occurrences, on peut déterminer combien de protéines sont associées à chaque organisme dans le jeu de données.\n",
    "\n",
    "On utilise la méthode `.value_counts()`. Cette méthode est très utile pour obtenir un aperçu rapide de la distribution des valeurs dans une colonne spécifique."
   ]
  },
  {
   "cell_type": "markdown",
   "metadata": {},
   "source": [
    "<div style=\"background-color: #e6f0ff; padding: 12px; border-left: 4px solid #004085; border-radius: 5px; margin-bottom: 10px;\">\n",
    "    <strong style=\"color: #004085; font-size: 1.1em;\">\n",
    "        🔹 Avec Pandas\n",
    "    </strong>\n",
    "</div>"
   ]
  },
  {
   "cell_type": "code",
   "execution_count": 17,
   "metadata": {},
   "outputs": [],
   "source": [
    "start_time = time.time()\n",
    "pandas_counts = pandas_df[\"Organism\"].value_counts()\n",
    "pandas_counts_time = time.time() - start_time"
   ]
  },
  {
   "cell_type": "markdown",
   "metadata": {},
   "source": [
    "<div style=\"background-color: #e6f0ff; padding: 12px; border-left: 4px solid #004085; border-radius: 5px; margin-bottom: 10px;\">\n",
    "    <strong style=\"color: #004085; font-size: 1.1em;\">\n",
    "        🔹 Avec Polars\n",
    "    </strong>\n",
    "</div>"
   ]
  },
  {
   "cell_type": "code",
   "execution_count": 18,
   "metadata": {},
   "outputs": [],
   "source": [
    "start_time = time.time()\n",
    "polars_counts = polars_df[\"Organism\"].value_counts()\n",
    "polars_counts_time = time.time() - start_time"
   ]
  },
  {
   "cell_type": "markdown",
   "metadata": {},
   "source": [
    "<div style=\"background-color: #e6f0ff; padding: 12px; border-left: 4px solid #004085; border-radius: 5px; margin-bottom: 10px;\">\n",
    "    <strong style=\"color: #004085; font-size: 1.1em;\">\n",
    "        🔹 Résultats \n",
    "    </strong>\n",
    "</div>"
   ]
  },
  {
   "cell_type": "code",
   "execution_count": 19,
   "metadata": {},
   "outputs": [
    {
     "name": "stdout",
     "output_type": "stream",
     "text": [
      "\n",
      "Value Counts for 'Organism': \n",
      "\n",
      "Pandas:\n",
      " Organism\n",
      "Human        489\n",
      "Mouse        489\n",
      "Rat          253\n",
      "Fruit fly    103\n",
      "Chicken       75\n",
      "Rabbit        25\n",
      "Maize          8\n",
      "Name: count, dtype: int64 \n",
      "\n",
      "Polars:\n",
      " shape: (7, 2)\n",
      "┌───────────┬───────┐\n",
      "│ Organism  ┆ count │\n",
      "│ ---       ┆ ---   │\n",
      "│ str       ┆ u32   │\n",
      "╞═══════════╪═══════╡\n",
      "│ Rabbit    ┆ 25    │\n",
      "│ Rat       ┆ 253   │\n",
      "│ Maize     ┆ 8     │\n",
      "│ Chicken   ┆ 75    │\n",
      "│ Human     ┆ 489   │\n",
      "│ Mouse     ┆ 489   │\n",
      "│ Fruit fly ┆ 103   │\n",
      "└───────────┴───────┘\n"
     ]
    }
   ],
   "source": [
    "print(\"\\nValue Counts for 'Organism':\", \"\\n\")\n",
    "print(\"Pandas:\\n\", pandas_counts, \"\\n\")\n",
    "print(\"Polars:\\n\", polars_counts)"
   ]
  },
  {
   "cell_type": "code",
   "execution_count": 20,
   "metadata": {},
   "outputs": [
    {
     "name": "stdout",
     "output_type": "stream",
     "text": [
      "Pandas value_counts time: 0.0004 seconds\n",
      "Polars value_counts time: 0.0001 seconds\n"
     ]
    }
   ],
   "source": [
    "print(f\"Pandas value_counts time: {pandas_counts_time:.4f} seconds\")\n",
    "print(f\"Polars value_counts time: {polars_counts_time:.4f} seconds\")"
   ]
  },
  {
   "cell_type": "markdown",
   "metadata": {},
   "source": [
    "<div style=\"display: flex; align-items: center; justify-content: space-between;\">\n",
    "    <h3 style=\"color:#007BFF; margin: 0;\"> 3.3 Statistiques par groupe"
   ]
  },
  {
   "cell_type": "markdown",
   "metadata": {},
   "source": [
    "Dans cette section, on va calculer les moyennes de certaines colonnes du DataFrame pour chaque groupe d'organismes dans la colonne \"Organism\". Cette opération est un calcul statistique par groupe, qui est utile pour obtenir des résumés de données en fonction de catégories (ici, chaque type d'organisme)."
   ]
  },
  {
   "cell_type": "markdown",
   "metadata": {},
   "source": [
    "<div style=\"background-color: #e6f0ff; padding: 12px; border-left: 4px solid #004085; border-radius: 5px; margin-bottom: 10px;\">\n",
    "    <strong style=\"color: #004085; font-size: 1.1em;\">\n",
    "        🔹 Avec Pandas\n",
    "    </strong>\n",
    "</div>"
   ]
  },
  {
   "cell_type": "code",
   "execution_count": 21,
   "metadata": {},
   "outputs": [],
   "source": [
    "start_time = time.time()\n",
    "pandas_grouped = pandas_df.groupby(\"Organism\")[[\"Length\", \"Mass\"]].mean()\n",
    "pandas_grouped_time = time.time() - start_time"
   ]
  },
  {
   "cell_type": "markdown",
   "metadata": {},
   "source": [
    "- **Ligne 2** : On utlise la méthode .groupby() pour regrouper des données par \"Organism\" et calculer la moyenne pour \"Length\" et \"Mass\". Ici, on applique les méthodes .groupby et .mean l'une à la suite de l'autre.                    \n"
   ]
  },
  {
   "cell_type": "markdown",
   "metadata": {},
   "source": [
    "<div style=\"background-color: #e6f0ff; padding: 12px; border-left: 4px solid #004085; border-radius: 5px; margin-bottom: 10px;\">\n",
    "    <strong style=\"color: #004085; font-size: 1.1em;\">\n",
    "        🔹 Avec Polars\n",
    "    </strong>\n",
    "</div>"
   ]
  },
  {
   "cell_type": "code",
   "execution_count": 22,
   "metadata": {},
   "outputs": [],
   "source": [
    "start_time = time.time()\n",
    "polars_grouped = polars_df.group_by(\"Organism\").agg(\n",
    "    [\n",
    "        pl.col(\"Length\").mean().alias(\"Length_mean\"),\n",
    "        pl.col(\"Mass\").mean().alias(\"Mass_mean\"),\n",
    "    ]\n",
    ")\n",
    "polars_grouped_time = time.time() - start_time"
   ]
  },
  {
   "cell_type": "markdown",
   "metadata": {},
   "source": [
    "- **Ligne 2** : La méthode agg() est utilisée pour appliquer des fonctions d'agrégation sur chaque groupe créé par le group_by. Dans ce cas, deux agrégations sont spécifiées à l'intérieur d'une liste.\n",
    "- **Ligne 3** :  On sélectionne la colonne \"Length\" du DataFrame pour effectuer une opération sur elle et on renomme la nouvelle colonne contenant les moyennes en \"Length_mean\"\n"
   ]
  },
  {
   "cell_type": "markdown",
   "metadata": {},
   "source": [
    "<div style=\"background-color: #e6f0ff; padding: 12px; border-left: 4px solid #004085; border-radius: 5px; margin-bottom: 10px;\">\n",
    "    <strong style=\"color: #004085; font-size: 1.1em;\">\n",
    "        🔹 Résultats \n",
    "    </strong>\n",
    "</div>"
   ]
  },
  {
   "cell_type": "code",
   "execution_count": 23,
   "metadata": {},
   "outputs": [
    {
     "name": "stdout",
     "output_type": "stream",
     "text": [
      "\n",
      "Grouped Mean Statistics by Organism: \n",
      "\n",
      "Pandas:\n",
      "                Length          Mass\n",
      "Organism                           \n",
      "Chicken    720.160000  81120.880000\n",
      "Fruit fly  784.844660  88154.669903\n",
      "Human      771.004090  86281.190184\n",
      "Maize      666.875000  73635.000000\n",
      "Mouse      768.092025  85942.274029\n",
      "Rabbit     591.480000  66754.200000\n",
      "Rat        722.379447  81081.822134 \n",
      "\n",
      "Polars:\n",
      " shape: (7, 3)\n",
      "┌───────────┬─────────────┬──────────────┐\n",
      "│ Organism  ┆ Length_mean ┆ Mass_mean    │\n",
      "│ ---       ┆ ---         ┆ ---          │\n",
      "│ str       ┆ f64         ┆ f64          │\n",
      "╞═══════════╪═════════════╪══════════════╡\n",
      "│ Mouse     ┆ 768.092025  ┆ 85942.274029 │\n",
      "│ Rat       ┆ 722.379447  ┆ 81081.822134 │\n",
      "│ Chicken   ┆ 720.16      ┆ 81120.88     │\n",
      "│ Human     ┆ 771.00409   ┆ 86281.190184 │\n",
      "│ Maize     ┆ 666.875     ┆ 73635.0      │\n",
      "│ Rabbit    ┆ 591.48      ┆ 66754.2      │\n",
      "│ Fruit fly ┆ 784.84466   ┆ 88154.669903 │\n",
      "└───────────┴─────────────┴──────────────┘\n"
     ]
    }
   ],
   "source": [
    "print(\"\\nGrouped Mean Statistics by Organism:\", \"\\n\")\n",
    "print(\"Pandas:\\n\", pandas_grouped, \"\\n\")\n",
    "print(\"Polars:\\n\", polars_grouped)"
   ]
  },
  {
   "cell_type": "code",
   "execution_count": 24,
   "metadata": {},
   "outputs": [
    {
     "name": "stdout",
     "output_type": "stream",
     "text": [
      "Pandas group_by time: 0.0009 seconds\n",
      "Polars group_by time: 0.0011 seconds\n"
     ]
    }
   ],
   "source": [
    "print(f\"Pandas group_by time: {pandas_grouped_time:.4f} seconds\")\n",
    "print(f\"Polars group_by time: {polars_grouped_time:.4f} seconds\")"
   ]
  },
  {
   "cell_type": "markdown",
   "metadata": {},
   "source": [
    "Polars a été plus rapide que Pandas pour cette opération, même si la différence semble minime (en millisecondes). Cependant, cette différence peut devenir significative pour des jeux de données beaucoup plus volumineux, où des fractions de seconde peuvent s'accumuler."
   ]
  },
  {
   "cell_type": "markdown",
   "metadata": {},
   "source": [
    "<div style=\"display: flex; align-items: center; justify-content: space-between;\">\n",
    "    <h3 style=\"color:#007BFF; margin: 0;\"> 3.4 Pour obtenir deux statistiques en meme temps"
   ]
  },
  {
   "cell_type": "markdown",
   "metadata": {},
   "source": [
    "Dans cette section, nous allons calculer les valeurs minimales et maximales des colonnes \"Length\" et \"Mass\" pour chaque organisme dans la colonne \"Organism\". Ce type d'analyse est similaire à une table de pivot, permettant d’agréger des données selon des statistiques spécifiques."
   ]
  },
  {
   "cell_type": "markdown",
   "metadata": {},
   "source": [
    "<div style=\"background-color: #e6f0ff; padding: 12px; border-left: 4px solid #004085; border-radius: 5px; margin-bottom: 10px;\">\n",
    "    <strong style=\"color: #004085; font-size: 1.1em;\">\n",
    "        🔹 Avec Pandas\n",
    "    </strong>\n",
    "</div>"
   ]
  },
  {
   "cell_type": "code",
   "execution_count": 25,
   "metadata": {},
   "outputs": [
    {
     "name": "stdout",
     "output_type": "stream",
     "text": [
      "Pandas Pivot Table (min and max):\n",
      "              min           max        \n",
      "          Length   Mass Length    Mass\n",
      "Organism                              \n",
      "Chicken      303  34688   2311  260961\n",
      "Fruit fly    294  33180   2554  287025\n",
      "Human        253  28160   2986  340261\n",
      "Maize        294  33834    996  105988\n",
      "Mouse        244  27394   2964  337000\n",
      "Rabbit        81   9405   1382  158347\n",
      "Rat          274  31162   2959  336587\n",
      "Pandas pivot table time: 0.0027 seconds\n"
     ]
    }
   ],
   "source": [
    "start_time = time.time()\n",
    "pandas_pivot = pandas_df.pivot_table(\n",
    "    index=\"Organism\", \n",
    "    values=[\"Length\", \"Mass\"], \n",
    "    aggfunc=[\"min\", \"max\"]\n",
    ")\n",
    "pandas_pivot_time = time.time() - start_time\n",
    "print(\"Pandas Pivot Table (min and max):\\n\", pandas_pivot)\n",
    "print(f\"Pandas pivot table time: {pandas_pivot_time:.4f} seconds\")"
   ]
  },
  {
   "cell_type": "markdown",
   "metadata": {},
   "source": [
    "- **Ligne 2** : Ici, la méthode pivot_table() est appelée sur le DataFrame pandas_df. Cette méthode crée un tableau croisé dynamique qui résume les données, en appliquant des fonctions d'agrégation aux valeurs spécifiées.\n",
    "- **Ligne 3** : On définit la colonne \"Organism\" comme index du tableau croisé dynamique. Chaque valeur unique dans cette colonne deviendra une ligne du DataFrame résultant (pandas_pivot). \n",
    "- **Ligne 4** : On spécifie les colonnes dont on souhaite résumer les données, à savoir \"Length\" et \"Mass\". Ces colonnes seront agrégées pour chaque organisme.\n",
    "- **Ligne 5** :  On définit les fonctions d'agrégation à appliquer aux valeurs spécifiées\n"
   ]
  },
  {
   "cell_type": "markdown",
   "metadata": {},
   "source": [
    "<div style=\"background-color: #e6f0ff; padding: 12px; border-left: 4px solid #004085; border-radius: 5px; margin-bottom: 10px;\">\n",
    "    <strong style=\"color: #004085; font-size: 1.1em;\">\n",
    "        🔹 Avec Polars\n",
    "    </strong>\n",
    "</div>"
   ]
  },
  {
   "cell_type": "code",
   "execution_count": 26,
   "metadata": {},
   "outputs": [
    {
     "name": "stdout",
     "output_type": "stream",
     "text": [
      "\n",
      "Polars Equivalent (min and max):\n",
      " shape: (7, 5)\n",
      "┌───────────┬────────────┬────────────┬──────────┬──────────┐\n",
      "│ Organism  ┆ Length_min ┆ Length_max ┆ Mass_min ┆ Mass_max │\n",
      "│ ---       ┆ ---        ┆ ---        ┆ ---      ┆ ---      │\n",
      "│ str       ┆ i64        ┆ i64        ┆ i64      ┆ i64      │\n",
      "╞═══════════╪════════════╪════════════╪══════════╪══════════╡\n",
      "│ Rat       ┆ 274        ┆ 2959       ┆ 31162    ┆ 336587   │\n",
      "│ Rabbit    ┆ 81         ┆ 1382       ┆ 9405     ┆ 158347   │\n",
      "│ Chicken   ┆ 303        ┆ 2311       ┆ 34688    ┆ 260961   │\n",
      "│ Maize     ┆ 294        ┆ 996        ┆ 33834    ┆ 105988   │\n",
      "│ Fruit fly ┆ 294        ┆ 2554       ┆ 33180    ┆ 287025   │\n",
      "│ Human     ┆ 253        ┆ 2986       ┆ 28160    ┆ 340261   │\n",
      "│ Mouse     ┆ 244        ┆ 2964       ┆ 27394    ┆ 337000   │\n",
      "└───────────┴────────────┴────────────┴──────────┴──────────┘\n",
      "Polars pivot table time: 0.0007 seconds\n"
     ]
    }
   ],
   "source": [
    "start_time = time.time()\n",
    "polars_pivot = polars_df.group_by(\"Organism\").agg(\n",
    "    [\n",
    "        pl.col(\"Length\").min().alias(\"Length_min\"),\n",
    "        pl.col(\"Length\").max().alias(\"Length_max\"),\n",
    "        pl.col(\"Mass\").min().alias(\"Mass_min\"),\n",
    "        pl.col(\"Mass\").max().alias(\"Mass_max\"),\n",
    "    ]\n",
    ")\n",
    "polars_pivot_time = time.time() - start_time\n",
    "print(\"\\nPolars Equivalent (min and max):\\n\", polars_pivot)\n",
    "print(f\"Polars pivot table time: {polars_pivot_time:.4f} seconds\")"
   ]
  },
  {
   "cell_type": "markdown",
   "metadata": {},
   "source": [
    "- **Ligne 2** : on créer un tableau pivot à partir de polars_df  en regroupant les données par la colonne \"Organism\". agg([...]) indique que nous allons effectuer des agrégations sur chaque groupe. \n",
    "- **Ligne 3 à 6** : on récupere les valeurs souhaités depuis les colonnes indiques après .col \n",
    "\n"
   ]
  },
  {
   "cell_type": "markdown",
   "metadata": {},
   "source": [
    "Le calcul de temps montre que Polars est significativement plus rapide que Pandas pour les opérations de table de pivot ou d’agrégation similaire sur des données regroupées. Cette différence de performance peut être essentielle lorsque l'on travaille avec des datasets plus volumineux, car elle permet de réduire le temps de calcul et d’optimiser l’efficacité des analyses."
   ]
  },
  {
   "cell_type": "markdown",
   "metadata": {},
   "source": [
    "<span style=\"color:blue\">Conclusion</span>\n",
    "\n",
    "- Pour des opérations de pivot et d'agrégation nécessitant des calculs de minimum et maximum, Polars présente un avantage en termes de rapidité.\n",
    "- Dans un contexte de bioinformatique ou d’analyse de données volumineuses, Polars peut offrir une meilleure performance, permettant d'obtenir des résultats plus rapidement tout en conservant des ressources système."
   ]
  },
  {
   "cell_type": "markdown",
   "metadata": {},
   "source": [
    "<div style=\"display: flex; align-items: center; justify-content: space-between;\">\n",
    "    <h3 style=\"color:#007BFF; margin: 0;\"> 3.5 Analyse de données numériques"
   ]
  },
  {
   "cell_type": "markdown",
   "metadata": {},
   "source": [
    "Dans cette section, le code crée un graphique de dispersion pour représenter la relation entre la longueur (\"Length\") et la masse (\"Mass\") des protéines en utilisant les bibliothèques Pandas et Polars, avec `Matplotlib` pour la visualisation."
   ]
  },
  {
   "cell_type": "markdown",
   "metadata": {},
   "source": [
    "<div style=\"background-color: #e6f0ff; padding: 12px; border-left: 4px solid #004085; border-radius: 5px; margin-bottom: 10px;\">\n",
    "    <strong style=\"color: #004085; font-size: 1.1em;\">\n",
    "        🔹 Avec Pandas\n",
    "    </strong>\n",
    "</div>"
   ]
  },
  {
   "cell_type": "code",
   "execution_count": 27,
   "metadata": {},
   "outputs": [
    {
     "data": {
      "image/png": "[encoded data removed]",
      "text/plain": [
       "<Figure size 640x480 with 1 Axes>"
      ]
     },
     "metadata": {},
     "output_type": "display_data"
    }
   ],
   "source": [
    "start_time = time.time()\n",
    "fig, ax = plt.subplots()\n",
    "ax.scatter(pandas_df[\"Length\"], pandas_df[\"Mass\"])\n",
    "ax.set_xlabel(\"Taille (nombre d'acides aminés)\")\n",
    "ax.set_ylabel(\"Masse (Dalton)\")\n",
    "plt.title(\"Scatter plot of Mass vs Length (Pandas)\")\n",
    "plt.show()\n",
    "pandas_scatter_time = time.time() - start_time"
   ]
  },
  {
   "cell_type": "markdown",
   "metadata": {},
   "source": [
    "- **Ligne 2** : On créer une nouvelle figure (fig) et un axe (ax) pour le tracé à l'aide de Matplotlib. Cela configure l'environnement pour dessiner des graphiques.\n",
    "- **Ligne 3** :  On créer un nuage de points (scatter plot) sur l'axe ax, en utilisant les valeurs de la colonne \"Length\" pour l'axe des x et les valeurs de la colonne \"Mass\" pour l'axe des y du DataFrame pandas_df.\n",
    "- **Ligne 4 et 5** : on définit les noms des axes x et y \n",
    "- **Ligne 6** : on définit le nom de notre graphique \n",
    "- **Ligne 7** : Affiche le graphique à l'écran\n"
   ]
  },
  {
   "cell_type": "code",
   "execution_count": 28,
   "metadata": {},
   "outputs": [
    {
     "data": {
      "image/png": "[encoded data removed]",
      "text/plain": [
       "<Figure size 640x480 with 1 Axes>"
      ]
     },
     "metadata": {},
     "output_type": "display_data"
    }
   ],
   "source": [
    "length_series = polars_df[\"Length\"].to_numpy()\n",
    "mass_series = polars_df[\"Mass\"].to_numpy()\n",
    "\n",
    "start_time = time.time()\n",
    "fig, ax = plt.subplots()\n",
    "ax.scatter(length_series, mass_series)\n",
    "ax.set_xlabel(\"Taille (nombre d'acides aminés)\")\n",
    "ax.set_ylabel(\"Masse (Dalton)\")\n",
    "plt.title(\"Scatter plot of Mass vs Length (Polars)\")\n",
    "plt.show()\n",
    "polars_scatter_time = time.time() - start_time"
   ]
  },
  {
   "cell_type": "markdown",
   "metadata": {},
   "source": [
    "- **Ligne 1 et 2** : ici on extrait deux colonnes d'un DataFrame Polars (polars_df) et les convertit en tableaux NumPy, length_series et mass_series."
   ]
  },
  {
   "cell_type": "markdown",
   "metadata": {},
   "source": [
    "Les deux graphiques montrent une relation linéaire entre la longueur et la masse des protéines, ce qui est attendu en bioinformatique car la masse d'une protéine augmente généralement avec le nombre d'acides aminés."
   ]
  },
  {
   "cell_type": "code",
   "execution_count": 29,
   "metadata": {},
   "outputs": [
    {
     "name": "stdout",
     "output_type": "stream",
     "text": [
      "Pandas scatter plot time: 0.0694 seconds\n",
      "Polars scatter plot time: 0.0825 seconds\n"
     ]
    }
   ],
   "source": [
    "print(f\"Pandas scatter plot time: {pandas_scatter_time:.4f} seconds\")\n",
    "print(f\"Polars scatter plot time: {polars_scatter_time:.4f} seconds\")"
   ]
  },
  {
   "cell_type": "markdown",
   "metadata": {},
   "source": [
    "Bien que les différences de temps d'exécution soient minimes dans ce cas, Polars a montré une légère amélioration de performance. Cependant, pour des opérations de visualisation avec Matplotlib, cette différence est moins marquée car le temps est principalement influencé par Matplotlib lui-même."
   ]
  },
  {
   "cell_type": "markdown",
   "metadata": {},
   "source": [
    "<div style=\"display: flex; align-items: center; justify-content: space-between;\">\n",
    "    <h3 style=\"color:#007BFF; margin: 0;\"> 3.6 Régression linéaire"
   ]
  },
  {
   "cell_type": "markdown",
   "metadata": {},
   "source": [
    "Nous allons effectuer une régression linéairepour déterminer les paramètres de la droite qui ajuste le mieux la relation entre la longueur (\"Length\") et la masse (\"Mass\") des protéines. La fonction `linregress()` du module `scipy.stats` est utilisée pour cela, permettant de calculer la pente (slope) et l'ordonnée à l'origine (intercept) de la droite de régression."
   ]
  },
  {
   "cell_type": "markdown",
   "metadata": {},
   "source": [
    "<div style=\"background-color: #e6f0ff; padding: 12px; border-left: 4px solid #004085; border-radius: 5px; margin-bottom: 10px;\">\n",
    "    <strong style=\"color: #004085; font-size: 1.1em;\">\n",
    "        🔹 Avec Pandas\n",
    "    </strong>\n",
    "</div>"
   ]
  },
  {
   "cell_type": "code",
   "execution_count": 30,
   "metadata": {},
   "outputs": [
    {
     "name": "stdout",
     "output_type": "stream",
     "text": [
      "\n",
      "Pandas Linear Regression Results:\n",
      "Slope: 110.63478918698125, Intercept: 1055.4318346792134\n"
     ]
    }
   ],
   "source": [
    "start_time = time.time()\n",
    "pandas_model = linregress(pandas_df[\"Length\"], pandas_df[\"Mass\"])\n",
    "pandas_regression_time = time.time() - start_time\n",
    "print(\"\\nPandas Linear Regression Results:\")\n",
    "print(f\"Slope: {pandas_model.slope}, Intercept: {pandas_model.intercept}\")"
   ]
  },
  {
   "cell_type": "markdown",
   "metadata": {},
   "source": [
    "- **Ligne 2** : la fonction linregress(...) calcule les paramètres d'une droite de régression linéaire (pente, intercept, coefficient de corrélation, etc.) entre les deux ensembles de données soit les deux colonnes qu'on sélectionne. \n",
    "- **Ligne 5** : ici pandas_model.slope accède à la pente de la droite de régression. La pente indique comment la masse change en fonction de la longueur. Et pandas_model.intercept accède à l'ordonnée à l'origine de la droite de régression, c'est-à-dire la valeur de la masse lorsque la longueur est égale à zéro. Cela donne un point de départ pour la ligne de régression sur le graphique."
   ]
  },
  {
   "cell_type": "markdown",
   "metadata": {},
   "source": [
    "<div style=\"background-color: #e6f0ff; padding: 12px; border-left: 4px solid #004085; border-radius: 5px; margin-bottom: 10px;\">\n",
    "    <strong style=\"color: #004085; font-size: 1.1em;\">\n",
    "        🔹 Avec Polars\n",
    "    </strong>\n",
    "</div>"
   ]
  },
  {
   "cell_type": "code",
   "execution_count": 31,
   "metadata": {},
   "outputs": [
    {
     "name": "stdout",
     "output_type": "stream",
     "text": [
      "\n",
      "Polars Linear Regression Results:\n",
      "Slope: 110.63478918698125, Intercept: 1055.4318346792134\n"
     ]
    }
   ],
   "source": [
    "length_array = polars_df[\"Length\"].to_numpy()\n",
    "mass_array = polars_df[\"Mass\"].to_numpy()\n",
    "\n",
    "start_time = time.time()\n",
    "polars_model = linregress(length_array, mass_array)\n",
    "polars_regression_time = time.time() - start_time\n",
    "\n",
    "print(\"\\nPolars Linear Regression Results:\")\n",
    "print(f\"Slope: {polars_model.slope}, Intercept: {polars_model.intercept}\")"
   ]
  },
  {
   "cell_type": "markdown",
   "metadata": {},
   "source": [
    "- **Ligne 1 et 2** : on convertit les colonnes du DataFrame polars_df en tableaux NumPy comme expliqué précédemment. \n"
   ]
  },
  {
   "cell_type": "markdown",
   "metadata": {},
   "source": [
    "<div style=\"background-color: #e6f0ff; padding: 12px; border-left: 4px solid #004085; border-radius: 5px; margin-bottom: 10px;\">\n",
    "    <strong style=\"color: #004085; font-size: 1.1em;\">\n",
    "        🔹 Résultats \n",
    "    </strong>\n",
    "</div>"
   ]
  },
  {
   "cell_type": "code",
   "execution_count": 32,
   "metadata": {},
   "outputs": [
    {
     "name": "stdout",
     "output_type": "stream",
     "text": [
      "Pandas linear regression time: 0.0005 seconds\n",
      "Polars linear regression time: 0.0004 seconds\n"
     ]
    }
   ],
   "source": [
    "print(f\"Pandas linear regression time: {pandas_regression_time:.4f} seconds\")\n",
    "print(f\"Polars linear regression time: {polars_regression_time:.4f} seconds\")"
   ]
  },
  {
   "cell_type": "markdown",
   "metadata": {},
   "source": [
    "**Interprétation des Résultats**\n",
    "- Paramètres de la Régression : Les résultats de la régression linéaire (pente de 110,63 et intercept de 1055,43) sont identiques pour les deux bibliothèques, confirmant que la relation entre la longueur et la masse des protéines est cohérente et linéaire dans les deux cas.\n",
    "- Différence de Performance : Polars s'avère légèrement plus rapide pour cette opération. Bien que la différence de temps soit minime, elle peut s’accumuler dans le cadre d'analyses de grande envergure."
   ]
  },
  {
   "cell_type": "markdown",
   "metadata": {},
   "source": [
    "<div style=\"display: flex; align-items: center; justify-content: space-between;\">\n",
    "    <h3 style=\"color:#007BFF; margin: 0;\"> 3.7 Scatter Plot with Regression Line"
   ]
  },
  {
   "cell_type": "markdown",
   "metadata": {},
   "source": [
    "Dans la section suivante, le code crée un graphique de dispersion avec une **ligne de régression linéaire** superposée pour illustrer la relation entre la taille et la masse des protéines. Deux versions du graphique sont créées : une avec **Pandas** et l'autre avec **Polars**."
   ]
  },
  {
   "cell_type": "markdown",
   "metadata": {},
   "source": [
    "<div style=\"background-color: #e6f0ff; padding: 12px; border-left: 4px solid #004085; border-radius: 5px; margin-bottom: 10px;\">\n",
    "    <strong style=\"color: #004085; font-size: 1.1em;\">\n",
    "        🔹 Avec Pandas\n",
    "    </strong>\n",
    "</div>"
   ]
  },
  {
   "cell_type": "code",
   "execution_count": 33,
   "metadata": {},
   "outputs": [
    {
     "data": {
      "image/png": "[encoded data removed]",
      "text/plain": [
       "<Figure size 640x480 with 1 Axes>"
      ]
     },
     "metadata": {},
     "output_type": "display_data"
    }
   ],
   "source": [
    "fig, ax = plt.subplots()\n",
    "ax.scatter(pandas_df[\"Length\"], pandas_df[\"Mass\"], label=\"Data\")\n",
    "ax.plot(\n",
    "    pandas_df[\"Length\"],\n",
    "    pandas_df[\"Length\"] * pandas_model.slope + pandas_model.intercept,\n",
    "    color=\"red\",\n",
    "    linestyle=\"--\",\n",
    "    label=\"Linear Model (Pandas)\",\n",
    ")\n",
    "ax.set_xlabel(\"Taille (nombre d'acides aminés)\")\n",
    "ax.set_ylabel(\"Masse (Dalton)\")\n",
    "ax.legend()\n",
    "plt.title(\"Mass vs Length with Linear Regression (Pandas)\")\n",
    "plt.show()"
   ]
  },
  {
   "cell_type": "markdown",
   "metadata": {},
   "source": [
    "- **Ligne 3 à 7** : ou utilise plot pour dessiner la ligne de régression linéaire : la formule qu'on donne calcule les valeurs prédites de masse en utilisant la pente et l'ordonnée à l'origine de votre modèle de régression. Les paramètres color et linestyle définissent la couleur rouge et le style de ligne en pointillés pour la ligne de régression. Label attribue un nom à cette courbe pour la légende."
   ]
  },
  {
   "cell_type": "markdown",
   "metadata": {},
   "source": [
    "<div style=\"background-color: #e6f0ff; padding: 12px; border-left: 4px solid #004085; border-radius: 5px; margin-bottom: 10px;\">\n",
    "    <strong style=\"color: #004085; font-size: 1.1em;\">\n",
    "        🔹 Avec Polars\n",
    "    </strong>\n",
    "</div>"
   ]
  },
  {
   "cell_type": "code",
   "execution_count": 34,
   "metadata": {},
   "outputs": [
    {
     "data": {
      "image/png": "[encoded data removed]",
      "text/plain": [
       "<Figure size 640x480 with 1 Axes>"
      ]
     },
     "metadata": {},
     "output_type": "display_data"
    }
   ],
   "source": [
    "length_array = polars_df[\"Length\"].to_numpy()\n",
    "mass_array = polars_df[\"Mass\"].to_numpy()\n",
    "\n",
    "fig, ax = plt.subplots()\n",
    "ax.scatter(length_array, mass_array, label=\"Data\")\n",
    "\n",
    "ax.plot(\n",
    "    length_array,\n",
    "    length_array * polars_model.slope + polars_model.intercept,\n",
    "    color=\"red\",\n",
    "    linestyle=\"--\",\n",
    "    label=\"Linear Model (Polars)\",\n",
    ")\n",
    "ax.set_xlabel(\"Taille (nombre d'acides aminés)\")\n",
    "ax.set_ylabel(\"Masse (Dalton)\")\n",
    "ax.legend()\n",
    "plt.title(\"Mass vs Length with Linear Regression (Polars)\")\n",
    "plt.show()"
   ]
  },
  {
   "cell_type": "markdown",
   "metadata": {},
   "source": [
    "**Interprétation des Graphiques**\n",
    "\n",
    "- **Relation linéaire** : Les deux graphiques montrent une ligne de régression linéaire (en rouge) qui passe près des points de données, confirmant une forte relation linéaire entre la taille et la masse des protéines.\n",
    "- **Comparaison Pandas vs Polars** : Les graphiques produits par Pandas et Polars sont identiques visuellement. La seule différence réside dans la source des données (Pandas ou Polars), mais cela n'affecte pas le résultat final.\n",
    "\n",
    "**Performance** : Bien que Polars puisse offrir un léger avantage en termes de temps de calcul pour préparer les données, l’affichage des graphiques prend un temps similaire car il dépend principalement de Matplotlib."
   ]
  },
  {
   "cell_type": "markdown",
   "metadata": {},
   "source": [
    "<div style=\"display: flex; align-items: center; justify-content: space-between;\">\n",
    "    <h1 style=\"color:#007BFF; margin: 0;\"> 4. Analyse de données temporelles"
   ]
  },
  {
   "cell_type": "markdown",
   "metadata": {},
   "source": [
    "<div style=\"display: flex; align-items: center; justify-content: space-between;\">\n",
    "    <h3 style=\"color:#007BFF; margin: 0;\"> 4.1 Conversion en format datetime"
   ]
  },
  {
   "cell_type": "markdown",
   "metadata": {},
   "source": [
    "Nous convertissons la colonne Creation date au format datetime, ce qui est essentiel pour toutes les opérations temporelles.\n",
    "\n",
    "<div style=\"background-color: #f1f8ff; padding: 10px; border-left: 4px solid #007BFF; border-radius: 5px;\">\n",
    "    <strong style=\"display: flex; align-items: center; color: #007BFF;\">\n",
    "        <span style=\"font-size: 1.2em; margin-right: 5px;\"></span>Remarque\n",
    "    </strong>\n",
    "    <p style=\"margin-top: 5px; color: #333;\">\n",
    "        La conversion au format datetime utilise pd.to_datetime, qui détecte automatiquement le format. En revanche, Polars requiert une conversion explicite via str.strptime pour définir le format.\n",
    "    </p>\n",
    "</div>"
   ]
  },
  {
   "cell_type": "markdown",
   "metadata": {},
   "source": [
    "<div style=\"background-color: #e6f0ff; padding: 12px; border-left: 4px solid #004085; border-radius: 5px; margin-bottom: 10px;\">\n",
    "    <strong style=\"color: #004085; font-size: 1.1em;\">\n",
    "        🔹 Avec Pandas\n",
    "    </strong>\n",
    "</div>"
   ]
  },
  {
   "cell_type": "code",
   "execution_count": 35,
   "metadata": {},
   "outputs": [],
   "source": [
    "pandas_df[\"Creation date\"] = pd.to_datetime(pandas_df[\"Creation date\"])"
   ]
  },
  {
   "cell_type": "markdown",
   "metadata": {},
   "source": [
    "- **pd.to_datetime()** est une fonction de Pandas qui convertit les valeurs de la colonne \"Creation date\" en objets de type datetime. Ce format permet d'effectuer des opérations spécifiques aux dates, comme le tri, le filtrage par période, ou les calculs de différences entre dates."
   ]
  },
  {
   "cell_type": "markdown",
   "metadata": {},
   "source": [
    "<div style=\"background-color: #e6f0ff; padding: 12px; border-left: 4px solid #004085; border-radius: 5px; margin-bottom: 10px;\">\n",
    "    <strong style=\"color: #004085; font-size: 1.1em;\">\n",
    "        🔹 Avec Polars\n",
    "    </strong>\n",
    "</div>"
   ]
  },
  {
   "cell_type": "code",
   "execution_count": 36,
   "metadata": {},
   "outputs": [],
   "source": [
    "polars_df = polars_df.with_columns(\n",
    "    pl.col(\"Creation date\").str.strptime(pl.Datetime, \"%Y-%m-%d\")\n",
    ")"
   ]
  },
  {
   "cell_type": "markdown",
   "metadata": {},
   "source": [
    "- **Ligne 1** : on sélectionne la colonne \"Creation date\" avec pl.col(\"Creation date\").\n",
    "- **Ligne 2** : On utilise .str.strptime(pl.Datetime, \"%Y-%m-%d\") pour convertir les valeurs en format datetime, en indiquant que la chaîne doit être interprétée comme une date au format \"année-mois-jour\"."
   ]
  },
  {
   "cell_type": "markdown",
   "metadata": {},
   "source": [
    "<div style=\"display: flex; align-items: center; justify-content: space-between;\">\n",
    "    <h3 style=\"color:#007BFF; margin: 0;\"> 4.2 Obtention des premières et dernières dates de référence pour chaque organisme"
   ]
  },
  {
   "cell_type": "markdown",
   "metadata": {},
   "source": [
    "Nous voulons connaître les premières et dernières dates de référence des kinases pour chaque organisme."
   ]
  },
  {
   "cell_type": "markdown",
   "metadata": {},
   "source": [
    "<div style=\"background-color: #e6f0ff; padding: 12px; border-left: 4px solid #004085; border-radius: 5px; margin-bottom: 10px;\">\n",
    "    <strong style=\"color: #004085; font-size: 1.1em;\">\n",
    "        🔹 Avec Pandas\n",
    "    </strong>\n",
    "</div>\n",
    "\n",
    "\n",
    "Dans Pandas, nous utilisons pivot_table avec min et max pour calculer ces dates. Cette approche est intuitive, mais elle peut être plus lente sur des datasets volumineux."
   ]
  },
  {
   "cell_type": "code",
   "execution_count": 37,
   "metadata": {},
   "outputs": [
    {
     "name": "stdout",
     "output_type": "stream",
     "text": [
      "Temps d'exécution pour Pandas : 0.0031 secondes\n",
      "                    min           max\n",
      "          Creation date Creation date\n",
      "Organism                             \n",
      "Chicken      1986-07-21    2021-02-10\n",
      "Fruit fly    1986-07-21    2023-09-13\n",
      "Human        1986-07-21    2018-06-20\n",
      "Maize        1990-08-01    2023-05-03\n",
      "Mouse        1986-07-21    2017-03-15\n"
     ]
    }
   ],
   "source": [
    "start_time = time.time()\n",
    "date_ranges_pandas = pandas_df.pivot_table(\n",
    "    index=\"Organism\", values=\"Creation date\", aggfunc=[\"min\", \"max\"]\n",
    ")\n",
    "execution_time_pandas = time.time() - start_time\n",
    "print(\"Temps d'exécution pour Pandas : {:.4f} secondes\".format(execution_time_pandas))\n",
    "print(date_ranges_pandas.head())"
   ]
  },
  {
   "cell_type": "markdown",
   "metadata": {},
   "source": [
    "- **Ligne 1** : Démarrer le chronomètre en enregistrant l'heure actuelle avec start_time = time.time().\n",
    "- **Ligne 2** : Utiliser pivot_table pour créer un tableau récapitulatif dans pandas_df, en regroupant par \"Organism\" et en obtenant les dates minimales et maximales de la colonne \"Creation date\".\n",
    "- **Ligne 6** : Calculer le temps d'exécution en soustrayant start_time de l'heure actuelle, puis stocker le résultat dans execution_time_pandas.\n"
   ]
  },
  {
   "cell_type": "markdown",
   "metadata": {},
   "source": [
    "Le code a pris environ 0.0065 secondes pour exécuter l'opération dans Pandas.\n",
    "Les résultats affichent les dates les plus anciennes et les plus récentes de référence pour chaque organisme.\n",
    "Le tableau montre que les dates varient entre 1986 et 2023 pour les organismes listés."
   ]
  },
  {
   "cell_type": "markdown",
   "metadata": {},
   "source": [
    "<div style=\"background-color: #e6f0ff; padding: 12px; border-left: 4px solid #004085; border-radius: 5px; margin-bottom: 10px;\">\n",
    "    <strong style=\"color: #004085; font-size: 1.1em;\">\n",
    "        🔹 Avec Polars\n",
    "    </strong>\n",
    "</div>"
   ]
  },
  {
   "cell_type": "markdown",
   "metadata": {},
   "source": [
    "Nous utilisons group_by et agg avec min et max pour obtenir les mêmes résultats. Polars est souvent plus rapide pour des calculs d'agrégation, surtout pour des grands ensembles de données."
   ]
  },
  {
   "cell_type": "code",
   "execution_count": 38,
   "metadata": {},
   "outputs": [
    {
     "name": "stdout",
     "output_type": "stream",
     "text": [
      "Temps d'exécution pour Polars : 0.0007 secondes\n",
      "shape: (5, 3)\n",
      "┌───────────┬─────────────────────┬─────────────────────┐\n",
      "│ Organism  ┆ min_date            ┆ max_date            │\n",
      "│ ---       ┆ ---                 ┆ ---                 │\n",
      "│ str       ┆ datetime[μs]        ┆ datetime[μs]        │\n",
      "╞═══════════╪═════════════════════╪═════════════════════╡\n",
      "│ Maize     ┆ 1990-08-01 00:00:00 ┆ 2023-05-03 00:00:00 │\n",
      "│ Rabbit    ┆ 1986-07-21 00:00:00 ┆ 2010-03-02 00:00:00 │\n",
      "│ Chicken   ┆ 1986-07-21 00:00:00 ┆ 2021-02-10 00:00:00 │\n",
      "│ Mouse     ┆ 1986-07-21 00:00:00 ┆ 2017-03-15 00:00:00 │\n",
      "│ Fruit fly ┆ 1986-07-21 00:00:00 ┆ 2023-09-13 00:00:00 │\n",
      "└───────────┴─────────────────────┴─────────────────────┘\n"
     ]
    }
   ],
   "source": [
    "start_time = time.time()\n",
    "date_ranges_polars = (\n",
    "    polars_df\n",
    "    .group_by(\"Organism\")\n",
    "    .agg([\n",
    "        pl.col(\"Creation date\").min().alias(\"min_date\"),\n",
    "        pl.col(\"Creation date\").max().alias(\"max_date\")\n",
    "    ])\n",
    ")\n",
    "execution_time_polars = time.time() - start_time\n",
    "print(f\"Temps d'exécution pour Polars : {execution_time_polars:.4f} secondes\")\n",
    "print(date_ranges_polars.head())"
   ]
  },
  {
   "cell_type": "markdown",
   "metadata": {},
   "source": [
    "- **Ligne 2** : Regroupe les données dans `polars_df` par la colonne `Organism`.\n",
    "- **Ligne 3** : Calcule la première date de référence (valeur minimale) dans la colonne `Creation date` pour chaque groupe et la nomme `First Reference`.\n",
    "- **Ligne 4** : Calcule la dernière date de référence (valeur maximale) dans la colonne `Creation date` pour chaque groupe et la nomme `Last Reference`.\n",
    "- **Ligne 6** : Calcule le temps d'exécution de l'opération en soustrayant le temps de début de l'opération du temps actuel.\n",
    "- **Ligne 7** : Affiche le temps d'exécution total pour l'opération en secondes, formaté avec quatre décimales.\n",
    "- **Ligne 8** : Affiche les cinq premières lignes du DataFrame `date_ranges_polars` pour examiner les premières et dernières dates de référence par organisme.\n",
    "\n",
    "Polars a pris environ 0.0010 secondes pour exécuter la même opération, soit environ six fois plus rapide que Pandas pour cette tâche.  \n",
    "Les dates correspondent aux résultats de Pandas, confirmant la cohérence entre les deux bibliothèques.\n"
   ]
  },
  {
   "cell_type": "markdown",
   "metadata": {},
   "source": [
    "<div style=\"display: flex; align-items: center; justify-content: space-between;\">\n",
    "    <h3 style=\"color:#007BFF; margin: 0;\"> 4.3 Comptage du nombre de kinases référencées chaque année"
   ]
  },
  {
   "cell_type": "markdown",
   "metadata": {},
   "source": [
    "Nous voulons savoir combien de kinases ont été référencées chaque année."
   ]
  },
  {
   "cell_type": "markdown",
   "metadata": {},
   "source": [
    "<div style=\"background-color: #e6f0ff; padding: 12px; border-left: 4px solid #004085; border-radius: 5px; margin-bottom: 10px;\">\n",
    "    <strong style=\"color: #004085; font-size: 1.1em;\">\n",
    "        🔹 Avec Pandas\n",
    "    </strong>\n",
    "</div>\n",
    "\n",
    "Dans Pandas, nous utilisons value_counts pour compter les occurrences par date, puis resample(\"Y\") pour regrouper par année. Cette approche est efficace pour des datasets de taille moyenne."
   ]
  },
  {
   "cell_type": "code",
   "execution_count": 39,
   "metadata": {},
   "outputs": [
    {
     "name": "stdout",
     "output_type": "stream",
     "text": [
      "Temps d'exécution pour Pandas : 0.0022 secondes\n",
      "Répartition annuelle des kinases (Pandas) :\n",
      "Creation date\n",
      "2006-12-31    167\n",
      "2005-12-31    136\n",
      "2004-12-31    118\n",
      "2003-12-31    104\n",
      "2007-12-31     88\n",
      "Name: count, dtype: int64\n"
     ]
    }
   ],
   "source": [
    "start_time = time.time()\n",
    "kinases_by_year_pandas = (\n",
    "    pandas_df[\"Creation date\"]\n",
    "    .value_counts()\n",
    "    .resample(\"YE\")\n",
    "    .sum()\n",
    "    .sort_values(ascending=False)\n",
    "    .head()\n",
    ")\n",
    "execution_time_pandas = time.time() - start_time\n",
    "print(f\"Temps d'exécution pour Pandas : {execution_time_pandas:.4f} secondes\")\n",
    "print(\"Répartition annuelle des kinases (Pandas) :\")\n",
    "print(kinases_by_year_pandas)"
   ]
  },
  {
   "cell_type": "markdown",
   "metadata": {},
   "source": [
    "\n",
    "\n",
    "- **Ligne 4** : Utilise `.value_counts()` pour compter les occurrences dans la colonne `Creation date` du DataFrame Pandas.\n",
    "- **Ligne 5** : Rééchantillonne les données par années complètes avec `.resample(\"YE\")`.\n",
    "- **Ligne 6** : Calcule la somme des valeurs pour chaque année rééchantillonnée avec `.sum()`.\n",
    "- **Ligne 7** : Trie les valeurs résultantes par ordre décroissant avec `.sort_values(ascending=False)`.\n",
    "- **Ligne 8** : Sélectionne les cinq années ayant les occurrences les plus élevées avec `.head()`.\n",
    "\n",
    "En 2006, 167 kinases ont été référencées dans UniProt. La deuxième « meilleure » année est 2005 avec 136 protéines.\n",
    "\n"
   ]
  },
  {
   "cell_type": "markdown",
   "metadata": {},
   "source": [
    "<div style=\"background-color: #e6f0ff; padding: 12px; border-left: 4px solid #004085; border-radius: 5px; margin-bottom: 10px;\">\n",
    "    <strong style=\"color: #004085; font-size: 1.1em;\">\n",
    "        🔹 Avec Polars\n",
    "    </strong>\n",
    "</div>\n",
    "\n",
    "\n",
    "En Polars, groupby_dynamic permet de regrouper dynamiquement par année, ce qui est performant pour des données volumineuses nécessitant un traitement temporel."
   ]
  },
  {
   "cell_type": "code",
   "execution_count": 40,
   "metadata": {},
   "outputs": [
    {
     "name": "stdout",
     "output_type": "stream",
     "text": [
      "Temps d'exécution pour Polars : 0.0012 secondes\n",
      "shape: (5, 2)\n",
      "┌──────┬───────┐\n",
      "│ year ┆ count │\n",
      "│ ---  ┆ ---   │\n",
      "│ i32  ┆ u32   │\n",
      "╞══════╪═══════╡\n",
      "│ 2006 ┆ 167   │\n",
      "│ 2005 ┆ 136   │\n",
      "│ 2004 ┆ 118   │\n",
      "│ 2003 ┆ 104   │\n",
      "│ 2001 ┆ 88    │\n",
      "└──────┴───────┘\n"
     ]
    }
   ],
   "source": [
    "start_time = time.time()\n",
    "kinases_by_year_polars = (\n",
    "    polars_df\n",
    "    .with_columns(pl.col(\"Creation date\").dt.year().alias(\"year\"))\n",
    "    .group_by(\"year\")\n",
    "    .agg(pl.count(\"Creation date\").alias(\"count\"))\n",
    "    .sort(\"count\", descending=True)\n",
    "    .head(5)\n",
    ")\n",
    "execution_time_polars = time.time() - start_time\n",
    "print(f\"Temps d'exécution pour Polars : {execution_time_polars:.4f} secondes\")\n",
    "print(kinases_by_year_polars)"
   ]
  },
  {
   "cell_type": "markdown",
   "metadata": {},
   "source": [
    "- **Ligne 2** : Déclare la variable `kinases_by_year_polars` pour stocker les résultats de l'opération.\n",
    "- **Ligne 3** : Utilise `.with_columns()` pour créer une nouvelle colonne appelée `year`, extraite de la colonne `Creation date` avec `.dt.year()`, qui convertit chaque date en son année correspondante.\n",
    "- **Ligne 4** : Regroupe les données par la nouvelle colonne `year` avec `.group_by(\"year\")`.\n",
    "- **Ligne 5** : Agrège les données dans chaque groupe en comptant le nombre d'occurrences dans la colonne `Creation date` avec `pl.count(\"Creation date\")` et nomme cette nouvelle colonne `count` avec `.alias(\"count\")`.\n",
    "- **Ligne 6** : Trie les résultats agrégés par ordre décroissant de la colonne `count` avec `.sort(\"count\", descending=True)`.\n",
    "- **Ligne 7** : Sélectionne les cinq premiers résultats avec `.head(5)`, représentant les cinq années ayant le plus grand nombre d'occurrences."
   ]
  },
  {
   "cell_type": "markdown",
   "metadata": {},
   "source": [
    "Les deux méthodes, en Pandas et en Polars, arrivent aux mêmes résultats en identifiant les années avec le plus grand nombre de kinases. Pandas utilise une approche basée sur des étapes intermédiaires, comme value_counts et resample, ce qui le rend intuitif mais légèrement plus lent. En revanche, Polars adopte une méthode plus directe, en extrayant l'année avec .dt.year et en regroupant les données avec group_by, ce qui optimise les performances.\n",
    "\n",
    "Polars offre une meilleure performance dans cet exemple, surtout pour des regroupements et agrégations sur des colonnes de type datetime. Cette rapidité peut devenir un avantage crucial pour des jeux de données volumineux ou des opérations répétées."
   ]
  },
  {
   "cell_type": "markdown",
   "metadata": {},
   "source": [
    "<div style=\"display: flex; align-items: center; justify-content: space-between;\">\n",
    "    <h3 style=\"color:#007BFF; margin: 0;\"> 4.4 Visualisation de la distribution des kinases référencées par année"
   ]
  },
  {
   "cell_type": "markdown",
   "metadata": {},
   "source": [
    "<div style=\"background-color: #e6f0ff; padding: 12px; border-left: 4px solid #004085; border-radius: 5px; margin-bottom: 10px;\">\n",
    "    <strong style=\"color: #004085; font-size: 1.1em;\">\n",
    "        🔹 Avec Pandas\n",
    "    </strong>\n",
    "</div>\n",
    "\n",
    "Dans Pandas, nous utilisons value_counts pour compter les occurrences par date, puis resample(\"YE\") pour regrouper par année. Cette approche est efficace pour des datasets de taille moyenne.\n",
    "Sur Pandas, plot() intégré permet de créer rapidement des visualisations."
   ]
  },
  {
   "cell_type": "code",
   "execution_count": 41,
   "metadata": {},
   "outputs": [
    {
     "name": "stdout",
     "output_type": "stream",
     "text": [
      "Temps d'exécution Pandas : 0.0670 secondes\n"
     ]
    },
    {
     "data": {
      "image/png": "[encoded data removed]",
      "text/plain": [
       "<Figure size 640x480 with 1 Axes>"
      ]
     },
     "metadata": {},
     "output_type": "display_data"
    }
   ],
   "source": [
    "start_time = time.time()\n",
    "(\n",
    "    pandas_df[\"Creation date\"]\n",
    "    .value_counts()\n",
    "    .resample(\"YE\")  \n",
    "    .sum()\n",
    "    .plot()\n",
    ")\n",
    "plt.savefig(\"kinases3.png\")\n",
    "execution_time_pandas = time.time() - start_time\n",
    "print(f\"Temps d'exécution Pandas : {execution_time_pandas:.4f} secondes\")"
   ]
  },
  {
   "cell_type": "markdown",
   "metadata": {},
   "source": [
    "- **Lignes 3 à 7** :  \n",
    "  - Sélectionne la colonne `\"Creation date\"` à analyser dans le DataFrame Pandas.  \n",
    "  - Utilise `.value_counts()` pour compter les occurrences de chaque date unique.  \n",
    "  - Regroupe les données par année avec `.resample(\"YE\")` (fin d'année).  \n",
    "  - Calcule la somme des occurrences pour chaque année avec `.sum()`.  \n",
    "  - Génère un graphique des occurrences annuelles avec `.plot()`.\n",
    "\n",
    "- **Ligne 8** : Sauvegarde le graphique généré dans un fichier image nommé `kinases3.png` à l'aide de `plt.savefig()`.\n"
   ]
  },
  {
   "cell_type": "markdown",
   "metadata": {},
   "source": [
    "<div style=\"background-color: #e6f0ff; padding: 12px; border-left: 4px solid #004085; border-radius: 5px; margin-bottom: 10px;\">\n",
    "    <strong style=\"color: #004085; font-size: 1.1em;\">\n",
    "        🔹 Avec Polars\n",
    "    </strong>\n",
    "</div>\n",
    "\n",
    "Pour Polars, nous devons d'abord convertir les données en NumPy afin de les rendre compatibles avec Matplotlib.\n"
   ]
  },
  {
   "cell_type": "code",
   "execution_count": 42,
   "metadata": {},
   "outputs": [
    {
     "name": "stdout",
     "output_type": "stream",
     "text": [
      "Temps d'exécution Polars : 0.0598 secondes\n"
     ]
    },
    {
     "data": {
      "image/png": "[encoded data removed]",
      "text/plain": [
       "<Figure size 640x480 with 1 Axes>"
      ]
     },
     "metadata": {},
     "output_type": "display_data"
    }
   ],
   "source": [
    "start_time = time.time()\n",
    "kinases_by_year_polars = (\n",
    "    polars_df\n",
    "    .with_columns(pl.col(\"Creation date\").dt.truncate(\"1y\").alias(\"year\"))\n",
    "    .group_by(\"year\")\n",
    "    .agg(pl.count(\"Creation date\").alias(\"count\"))\n",
    "    .sort(\"year\")\n",
    ")\n",
    "years_array = kinases_by_year_polars[\"year\"].to_numpy()\n",
    "counts_array = kinases_by_year_polars[\"count\"].to_numpy()\n",
    "plt.plot(years_array, counts_array)\n",
    "plt.title(\"Évolution annuelle des kinases (Polars)\")\n",
    "plt.xlabel(\"Année\")\n",
    "plt.ylabel(\"Nombre de kinases\")\n",
    "plt.savefig(\"kinases_polars.png\")\n",
    "\n",
    "execution_time_polars = time.time() - start_time\n",
    "print(f\"Temps d'exécution Polars : {execution_time_polars:.4f} secondes\")"
   ]
  },
  {
   "cell_type": "markdown",
   "metadata": {},
   "source": [
    "- **Lignes 3 à 6** :  \n",
    "  - **Ligne 3** : Crée une nouvelle colonne `year` en tronquant les dates de la colonne `\"Creation date\"` à l'année la plus proche avec `.dt.truncate(\"1y\")`.  \n",
    "  - **Ligne 4** : Regroupe les données par la colonne `year` avec `.group_by(\"year\")`.  \n",
    "  - **Ligne 5** : Compte les occurrences dans la colonne `\"Creation date\"` pour chaque groupe d'années avec `pl.count(\"Creation date\")` et nomme cette colonne `count` avec `.alias(\"count\")`.  \n",
    "  - **Ligne 6** : Trie les résultats par la colonne `year` dans l'ordre chronologique avec `.sort(\"year\")`.\n",
    "\n",
    "- **Ligne 8** : Convertit la colonne `year` en tableau NumPy avec `.to_numpy()` pour l'utiliser avec Matplotlib.\n",
    "\n",
    "- **Ligne 9** : Convertit la colonne `count` en tableau NumPy avec `.to_numpy()` pour l'utiliser avec Matplotlib.\n",
    "\n",
    "- **Ligne 11** : Trace un graphique avec les années (`years_array`) en abscisse et le nombre de kinases (`counts_array`) en ordonnée."
   ]
  },
  {
   "cell_type": "markdown",
   "metadata": {},
   "source": [
    " Pandas utilise une chaîne d'opérations comprenant value_counts, resample et sum, ce qui nécessite une gestion des index et des étapes intermédiaires. En revanche, Polars adopte une méthode plus directe et performante, en extrayant les années avec .dt.truncate et en regroupant les données par année avec group_by. Bien que les deux approches produisent des résultats identiques, Polars offre une meilleure rapidité"
   ]
  },
  {
   "cell_type": "markdown",
   "metadata": {},
   "source": [
    "<div style=\"display: flex; align-items: center; justify-content: space-between;\">\n",
    "    <h1 style=\"color:#007BFF; margin: 0;\"> 5. Transformation d'une colonne"
   ]
  },
  {
   "cell_type": "markdown",
   "metadata": {},
   "source": [
    "<div style=\"display: flex; align-items: center; justify-content: space-between;\">\n",
    "    <h3 style=\"color:#007BFF; margin: 0;\"> 5.1 Filtrer les lignes sans valeurs manquantes dans la colonne PDB"
   ]
  },
  {
   "cell_type": "markdown",
   "metadata": {},
   "source": [
    "Nous commençons par filtrer les lignes qui contiennent une valeur non nulle dans la colonne PDB. Cela nous permet d'examiner le contenu de cette colonne.\n",
    "\n",
    "<div style=\"background-color: #f1f8ff; padding: 10px; border-left: 4px solid #007BFF; border-radius: 5px;\">\n",
    "    <strong style=\"display: flex; align-items: center; color: #007BFF;\">\n",
    "        <span style=\"font-size: 1.2em; margin-right: 5px;\"></span>Remarque\n",
    "    </strong>\n",
    "    <p style=\"margin-top: 5px; color: #333;\">\n",
    "       En Pandas, isna() sélectionne les valeurs manquantes, et ~ inverse la sélection pour ne garder que les lignes avec des valeurs non nulles dans PDB.\n",
    "\n",
    "En Polars, la syntaxe est similaire mais utilise pl.col(\"PDB\").is_not_null() pour garder uniquement les lignes où PDB n'est pas null.\n",
    "\n",
    "    \n",
    "</div>\n",
    "<br>\n",
    "<div style=\"background-color: #e6f0ff; padding: 12px; border-left: 4px solid #004085; border-radius: 5px; margin-bottom: 10px;\">\n",
    "    <strong style=\"color: #004085; font-size: 1.1em;\">\n",
    "        🔹 Avec Pandas\n",
    "    </strong>\n",
    "</div>"
   ]
  },
  {
   "cell_type": "code",
   "execution_count": 43,
   "metadata": {},
   "outputs": [
    {
     "name": "stdout",
     "output_type": "stream",
     "text": [
      "     Entry Organism  Length Creation date    Mass                   PDB\n",
      "6   A2CG49    Mouse    2964    2007-10-23  337000            1WFW;7UR2;\n",
      "15  D3ZMK9      Rat    1368    2018-07-18  147716                 6EWX;\n",
      "30  O00141    Human     431    1998-12-15   48942  2R5T;3HDM;3HDN;7PUE;\n",
      "Temps d'exécution Pandas : 0.0012 secondes\n"
     ]
    }
   ],
   "source": [
    "start_time = time.time()\n",
    "pandas_filtered = pandas_df.loc[~pandas_df[\"PDB\"].isna()].head(3)\n",
    "print(pandas_filtered)\n",
    "\n",
    "execution_time_pandas = time.time() - start_time\n",
    "print(\"Temps d'exécution Pandas : {:.4f} secondes\".format(execution_time_pandas)) "
   ]
  },
  {
   "cell_type": "markdown",
   "metadata": {},
   "source": [
    "- **Ligne 2** : Filtre les lignes du DataFrame polars_df où la colonne \"PDB\" n'est pas None (non vide).\n",
    "  - pl.col(\"PDB\").is_not_null() : Sélectionne uniquement les lignes où la colonne \"PDB\" ne contient pas de valeurs nulles.\n",
    "  - .filter(...) : Applique le filtre au DataFrame polars_df.\n",
    "  - .head(3) : Limite le résultat aux 3 premières lignes après le filtrage.\n",
    "  - Stocke le résultat filtré dans la variable polars_filtered.\n",
    "\n",
    "- **Ligne 3** : Affiche les 3 premières lignes du DataFrame filtré, où la colonne \"PDB\" contient des valeurs non nulles.\n",
    "\n",
    "<br>\n",
    "<div style=\"background-color: #e6f0ff; padding: 12px; border-left: 4px solid #004085; border-radius: 5px; margin-bottom: 10px;\">\n",
    "    <strong style=\"color: #004085; font-size: 1.1em;\">\n",
    "        🔹 Avec Polars\n",
    "    </strong>\n",
    "</div>\n"
   ]
  },
  {
   "cell_type": "code",
   "execution_count": 44,
   "metadata": {},
   "outputs": [
    {
     "name": "stdout",
     "output_type": "stream",
     "text": [
      "shape: (3, 6)\n",
      "┌────────┬──────────┬────────┬─────────────────────┬────────┬──────────────────────┐\n",
      "│ Entry  ┆ Organism ┆ Length ┆ Creation date       ┆ Mass   ┆ PDB                  │\n",
      "│ ---    ┆ ---      ┆ ---    ┆ ---                 ┆ ---    ┆ ---                  │\n",
      "│ str    ┆ str      ┆ i64    ┆ datetime[μs]        ┆ i64    ┆ str                  │\n",
      "╞════════╪══════════╪════════╪═════════════════════╪════════╪══════════════════════╡\n",
      "│ A2CG49 ┆ Mouse    ┆ 2964   ┆ 2007-10-23 00:00:00 ┆ 337000 ┆ 1WFW;7UR2;           │\n",
      "│ D3ZMK9 ┆ Rat      ┆ 1368   ┆ 2018-07-18 00:00:00 ┆ 147716 ┆ 6EWX;                │\n",
      "│ O00141 ┆ Human    ┆ 431    ┆ 1998-12-15 00:00:00 ┆ 48942  ┆ 2R5T;3HDM;3HDN;7PUE; │\n",
      "└────────┴──────────┴────────┴─────────────────────┴────────┴──────────────────────┘\n",
      "Temps d'exécution pour le filtrage Polars : 0.0008 secondes\n"
     ]
    }
   ],
   "source": [
    "start_time = time.time()\n",
    "polars_filtered = polars_df.filter(pl.col(\"PDB\").is_not_null()).head(3)\n",
    "print(polars_filtered)\n",
    "\n",
    "execution_time_polars = time.time() - start_time\n",
    "print(\n",
    "    \"Temps d'exécution pour le filtrage Polars : {:.4f} secondes\".format(\n",
    "        execution_time_polars\n",
    "    )\n",
    ")"
   ]
  },
  {
   "cell_type": "markdown",
   "metadata": {},
   "source": [
    "<div style=\"background-color: #f9f9f9; padding: 10px; border-left: 4px solid #007acc; border-radius: 5px; margin-bottom: 10px;\">\n",
    "    <strong style=\"color: #007acc; font-size: 1.1em;\">Syntaxe</strong> : \n",
    "    <ul style=\"margin-top: 5px;\">\n",
    "        <li><strong>Pandas</strong> utilise <code>isna()</code> et l’opérateur <code>~</code> pour inverser la condition, tandis que <strong>Polars</strong> utilise <code>is_not_null()</code>, qui vérifie directement si les valeurs ne sont pas nulles.</li>\n",
    "        <li>Dans <strong>Pandas</strong>, on utilise <code>loc</code> pour appliquer le filtre, tandis que <strong>Polars</strong> utilise <code>.filter()</code> pour cette tâche.</li>\n",
    "    </ul>\n",
    "</div>"
   ]
  },
  {
   "cell_type": "markdown",
   "metadata": {},
   "source": [
    "On observe que **Polars est plus rapide pour cette opération de filtrage**. Cela s'explique par l'architecture de Polars, qui est optimisée pour les calculs en mémoire et fonctionne plus efficacement sur de grandes quantités de données en utilisant des structures de données en colonnes.\n",
    "\n",
    "Les deux bibliothèques renvoient les mêmes lignes pour les valeurs non nulles dans \"PDB\", ce qui valide la cohérence des résultats.\n",
    "\n",
    "- **Ligne 2 a 3** : Utilise filter(pl.col(\"PDB\").is_not_null()) pour conserver les lignes où \"PDB\" n'est pas null.et Affiche les trois premières lignes du DataFrame filtré.\n",
    "\n",
    "<br>\n",
    "\n",
    "<div style=\"display: flex; align-items: center; justify-content: space-between;\">\n",
    "    <h3 style=\"color:#007BFF; margin: 0;\"> 5.2 Compter le nombre de structures 3D pour chaque protéine\n"
   ]
  },
  {
   "cell_type": "markdown",
   "metadata": {},
   "source": [
    "La colonne PDB contient des identifiants de structures 3D séparés par des points-virgules. Pour chaque protéine, nous souhaitons compter le nombre d'identifiants 3D en comptant les points-virgules dans la chaîne de caractères.\n",
    "<br>\n",
    "<div style=\"background-color: #f1f8ff; padding: 10px; border-left: 4px solid #007BFF; border-radius: 5px;\">\n",
    "    <strong style=\"display: flex; align-items: center; color: #007BFF;\">\n",
    "        <span style=\"font-size: 1.2em; margin-right: 5px;\"></span>Remarque\n",
    "    </strong>\n",
    "    <p style=\"margin-top: 5px; color: #333;\"> En Pandas, nous créons une fonction count_structures qui utilise isna pour tester si PDB est NaN et retourne 0 si c'est le cas, sinon elle compte les points-virgules. Nous appliquons ensuite cette fonction avec .apply() pour créer une nouvelle colonne nb_structures.\n",
    "\n",
    "En Polars, nous pouvons réaliser cette opération avec une expression plus concise en utilisant pl.when pour gérer les valeurs manquantes et str.count(\";\") pour compter les points-virgules.   \n",
    "</div>\n",
    "<br>\n",
    "<div style=\"background-color: #e6f0ff; padding: 12px; border-left: 4px solid #004085; border-radius: 5px; margin-bottom: 10px;\">\n",
    "    <strong style=\"color: #004085; font-size: 1.1em;\">\n",
    "        🔹 Avec Pandas\n",
    "    </strong>\n",
    "</div>\n"
   ]
  },
  {
   "cell_type": "code",
   "execution_count": 45,
   "metadata": {},
   "outputs": [
    {
     "name": "stdout",
     "output_type": "stream",
     "text": [
      "        Entry   Organism  Length Creation date    Mass  PDB  nb_structures\n",
      "0  A0A0B4J2F2      Human     783    2018-06-20   84930  NaN              0\n",
      "1      A4L9P5        Rat    1211    2007-07-24  130801  NaN              0\n",
      "2  A0A1D6E0S8      Maize     856    2023-05-03   93153  NaN              0\n",
      "3  A0A8I5ZNK2        Rat     528    2023-09-13   58360  NaN              0\n",
      "4      A1Z7T0  Fruit fly    1190    2012-01-25  131791  NaN              0\n",
      "Comptage des structures 3D avec Pandas: 0.0067 secondes\n"
     ]
    }
   ],
   "source": [
    "def count_structures(row):\n",
    "    if pd.isna(row[\"PDB\"]):\n",
    "        return 0\n",
    "    else:\n",
    "        return row[\"PDB\"].count(\";\")\n",
    "\n",
    "\n",
    "start_time = time.time()\n",
    "\n",
    "pandas_df[\"nb_structures\"] = pandas_df.apply(count_structures, axis=1)\n",
    "print(pandas_df.head())\n",
    "execution_time = time.time() - start_time\n",
    "print(\n",
    "    \"Comptage des structures 3D avec Pandas: {:.4f} secondes\".format(\n",
    "        execution_time\n",
    "    )\n",
    ")"
   ]
  },
  {
   "cell_type": "markdown",
   "metadata": {},
   "source": [
    "- **Ligne 1** : Définit une fonction count_structures pour compter le nombre de structures 3D.\n",
    "- **Ligne 2 à 3** : Teste si la valeur de \"PDB\" est NaN ; retourne 0 si vrai.\n",
    "- **Ligne 5** : Si \"PDB\" n'est pas NaN, compte le nombre de points-virgules dans \"PDB\" pour indiquer le nombre de structures.\n",
    "- **Ligne 7** : Applique count_structures à chaque ligne du DataFrame pandas_df et crée la colonne nb_structures.\n",
    "\n",
    "<br>\n",
    "<br>\n",
    "<div style=\"background-color: #e6f0ff; padding: 12px; border-left: 4px solid #004085; border-radius: 5px; margin-bottom: 10px;\">\n",
    "    <strong style=\"color: #004085; font-size: 1.1em;\">\n",
    "        🔹 Avec Polars\n",
    "    </strong>\n",
    "</div>\n"
   ]
  },
  {
   "cell_type": "code",
   "execution_count": 46,
   "metadata": {},
   "outputs": [
    {
     "name": "stdout",
     "output_type": "stream",
     "text": [
      "Comptage des structures 3D avec Polars : 0.0005 secondes\n",
      "shape: (5, 7)\n",
      "┌────────────┬───────────┬────────┬─────────────────────┬────────┬──────┬───────────────┐\n",
      "│ Entry      ┆ Organism  ┆ Length ┆ Creation date       ┆ Mass   ┆ PDB  ┆ nb_structures │\n",
      "│ ---        ┆ ---       ┆ ---    ┆ ---                 ┆ ---    ┆ ---  ┆ ---           │\n",
      "│ str        ┆ str       ┆ i64    ┆ datetime[μs]        ┆ i64    ┆ str  ┆ u32           │\n",
      "╞════════════╪═══════════╪════════╪═════════════════════╪════════╪══════╪═══════════════╡\n",
      "│ A0A0B4J2F2 ┆ Human     ┆ 783    ┆ 2018-06-20 00:00:00 ┆ 84930  ┆ null ┆ 0             │\n",
      "│ A4L9P5     ┆ Rat       ┆ 1211   ┆ 2007-07-24 00:00:00 ┆ 130801 ┆ null ┆ 0             │\n",
      "│ A0A1D6E0S8 ┆ Maize     ┆ 856    ┆ 2023-05-03 00:00:00 ┆ 93153  ┆ null ┆ 0             │\n",
      "│ A0A8I5ZNK2 ┆ Rat       ┆ 528    ┆ 2023-09-13 00:00:00 ┆ 58360  ┆ null ┆ 0             │\n",
      "│ A1Z7T0     ┆ Fruit fly ┆ 1190   ┆ 2012-01-25 00:00:00 ┆ 131791 ┆ null ┆ 0             │\n",
      "└────────────┴───────────┴────────┴─────────────────────┴────────┴──────┴───────────────┘\n"
     ]
    }
   ],
   "source": [
    "start_time = time.time()\n",
    "\n",
    "polars_df = polars_df.with_columns(\n",
    "    pl.when(pl.col(\"PDB\").is_null())\n",
    "    .then(0)\n",
    "    .otherwise(pl.col(\"PDB\").str.count_matches(\";\"))\n",
    "    .alias(\"nb_structures\")\n",
    ")\n",
    "\n",
    "execution_time_polars = time.time() - start_time\n",
    "print(\n",
    "    \"Comptage des structures 3D avec Polars : {:.4f} secondes\".format(\n",
    "        execution_time_polars\n",
    "    )\n",
    ")\n",
    "print(polars_df.head())"
   ]
  },
  {
   "cell_type": "markdown",
   "metadata": {},
   "source": [
    "- **Ligne 2** : Ajoute une nouvelle colonne nb_structures au DataFrame polars_df.\n",
    "- **Ligne 3** : Utilise pl.when(pl.col(\"PDB\").is_null()).then(0) pour retourner 0 si la valeur de \"PDB\" est null.\n",
    "- **Ligne 6** : Utilise otherwise(pl.col(\"PDB\").str.count(\";\")) pour compter les points-virgules si \"PDB\" n'est pas null.\n",
    "- **Ligne 7** : Nomme cette colonne \"nb_structures\" avec alias(\"nb_structures\").\n",
    "\n",
    "Polars est nettement plus rapide que Pandas pour cette opération de comptage, exécutant la tâche environ 26 fois plus vite. Cela est dû à l'architecture de Polars, qui optimise les opérations en mémoire en utilisant des structures de données en colonnes, ce qui est particulièrement performant pour les tâches de transformation et d'agrégation.\n",
    "<br><br>\n",
    "Les deux bibliothèques produisent des résultats identiques, avec nb_structures égal à 0 pour les exemples de lignes affichées (les valeurs sont NaN ou null dans la colonne \"PDB\" pour ces lignes)."
   ]
  },
  {
   "cell_type": "markdown",
   "metadata": {},
   "source": [
    "<div style=\"display: flex; align-items: center; justify-content: space-between;\">\n",
    "    <h3 style=\"color:#007BFF; margin: 0;\"> 5.3 Trier les protéines par nombre de structures 3D"
   ]
  },
  {
   "cell_type": "markdown",
   "metadata": {},
   "source": [
    "Nous voulons maintenant trouver les kinases ayant le plus de structures 3D référencées.\n",
    "<div style=\"background-color: #f1f8ff; padding: 10px; border-left: 4px solid #007BFF; border-radius: 5px;\">\n",
    "    <strong style=\"display: flex; align-items: center; color: #007BFF;\">\n",
    "        <span style=\"font-size: 1.2em; margin-right: 5px;\"></span>Remarque\n",
    "    </strong>\n",
    "    <p style=\"margin-top: 5px; color: #333;\"> En Pandas, nous utilisons sort_values pour trier la colonne nb_structures en ordre décroissant, puis nous sélectionnons uniquement les colonnes Organism et nb_structures et affichons les cinq premières lignes.\n",
    "\n",
    "En Polars, nous utilisons sort de manière similaire et sélectionnons les mêmes colonnes pour l'affichage. \n",
    "</div>\n",
    "<br>\n",
    "<div style=\"background-color: #e6f0ff; padding: 12px; border-left: 4px solid #004085; border-radius: 5px; margin-bottom: 10px;\">\n",
    "    <strong style=\"color: #004085; font-size: 1.1em;\">\n",
    "        🔹 Avec Pandas\n",
    "    </strong>\n",
    "</div>\n"
   ]
  },
  {
   "cell_type": "code",
   "execution_count": 47,
   "metadata": {},
   "outputs": [
    {
     "name": "stdout",
     "output_type": "stream",
     "text": [
      "    Organism  nb_structures\n",
      "306    Human            453\n",
      "159    Human            284\n",
      "663    Human            245\n",
      "497    Human            238\n",
      "227    Human            176\n",
      "Temps d'exécution pour le tri avec Pandas : 0.0019 secondes\n"
     ]
    }
   ],
   "source": [
    "start_time = time.time()\n",
    "\n",
    "top_structures_pandas = (\n",
    "    pandas_df.sort_values(by=\"nb_structures\", ascending=False)\n",
    "    .filter([\"Organism\", \"nb_structures\"])\n",
    "    .head()\n",
    ")\n",
    "print(top_structures_pandas)\n",
    "\n",
    "execution_time_pandas = time.time() - start_time\n",
    "print(\n",
    "    \"Temps d'exécution pour le tri avec Pandas : {:.4f} secondes\".format(\n",
    "        execution_time_pandas\n",
    "    )\n",
    ")"
   ]
  },
  {
   "cell_type": "markdown",
   "metadata": {},
   "source": [
    "- **Ligne 4** : Trie polars_df en ordre décroissant par la colonne nb_structures en utilisant sort(\"nb_structures\", reverse=True).\n",
    "- **Ligne 5** : Sélectionne uniquement les colonnes Organism et nb_structures avec select([\"Organism\", \"nb_structures\"]).\n",
    "- **Ligne 6** : Affiche les cinq premières lignes des protéines avec le plus de structures 3D pour examiner les résultats.\n",
    "<br><br>\n",
    "<div style=\"background-color: #e6f0ff; padding: 12px; border-left: 4px solid #004085; border-radius: 5px; margin-bottom: 10px;\">\n",
    "    <strong style=\"color: #004085; font-size: 1.1em;\">\n",
    "        🔹 Avec Polars\n",
    "    </strong>\n",
    "</div>"
   ]
  },
  {
   "cell_type": "code",
   "execution_count": 48,
   "metadata": {},
   "outputs": [
    {
     "name": "stdout",
     "output_type": "stream",
     "text": [
      "shape: (5, 2)\n",
      "┌──────────┬───────────────┐\n",
      "│ Organism ┆ nb_structures │\n",
      "│ ---      ┆ ---           │\n",
      "│ str      ┆ u32           │\n",
      "╞══════════╪═══════════════╡\n",
      "│ Human    ┆ 453           │\n",
      "│ Human    ┆ 284           │\n",
      "│ Human    ┆ 245           │\n",
      "│ Human    ┆ 238           │\n",
      "│ Human    ┆ 176           │\n",
      "└──────────┴───────────────┘\n",
      "Temps d'exécution pour le tri avec polars: 0.0008 secondes\n"
     ]
    }
   ],
   "source": [
    "start_time = time.time()\n",
    "\n",
    "top_structures_polars = (\n",
    "    polars_df.sort(\"nb_structures\", descending=True)\n",
    "    .select([\"Organism\", \"nb_structures\"])\n",
    "    .head()\n",
    ")\n",
    "print(top_structures_polars)\n",
    "\n",
    "execution_time_polars = time.time() - start_time\n",
    "print(\n",
    "    \"Temps d'exécution pour le tri avec polars: {:.4f} secondes\".format(\n",
    "        execution_time_polars\n",
    "    )\n",
    ")"
   ]
  },
  {
   "cell_type": "markdown",
   "metadata": {},
   "source": [
    "- **Ligne 4** : Trie polars_df en ordre décroissant par la colonne nb_structures en utilisant sort(\"nb_structures\", reverse=True).\n",
    "- **Ligne 5** : Sélectionne uniquement les colonnes Organism et nb_structures avec select([\"Organism\", \"nb_structures\"]).\n",
    "- **Ligne 6** : Affiche les cinq premières lignes des protéines avec le plus de structures 3D pour examiner les résultats.\n",
    "\n",
    "En terme de performance, le tri et l'affichage en Polars sont effectués beaucoup plus rapidement, en 0.0008 secondes contre 0.0054 secondes pour Pandas, mettant en avant l'efficacité de Polars sur les opérations de tri sur de grands ensembles de données.\n",
    "\n",
    "Les resultats sont les même pour le deux, les cinq kinases avec le plus grand nombre de structures 3D référencées sont toutes d'origine humaine. \n"
   ]
  },
  {
   "cell_type": "markdown",
   "metadata": {},
   "source": [
    "<div style=\"display: flex; align-items: center; justify-content: space-between;\">\n",
    "    <h1 style=\"color:#007BFF; margin: 0;\"> Conclusion"
   ]
  },
  {
   "cell_type": "markdown",
   "metadata": {},
   "source": [
    "Polars redéfinit les standards de performance pour l’analyse de données volumineuses, offrant une rapidité inégalée dans les opérations intensives en calcul. Comme vu tout au long de ce tutoriel, Polars surpasse Pandas dans des tâches de filtrage, d’agrégation, et de tri sur des jeux de données volumineux. Par exemple, pour les regroupements annuels et les comptages, Polars a permis de réduire les temps d’exécution jusqu’à plusieurs fois, grâce à son architecture en colonnes et son traitement optimisé en mémoire. Cette efficacité fait de Polars une option idéale pour les projets nécessitant des analyses rapides sur de grands volumes de données.\n",
    "\n",
    "Cependant, il est important de noter que Pandas reste un excellent choix pour les ensembles de données de taille moyenne, où la richesse de ses fonctionnalités et son écosystème mature sont des atouts précieux. Il est important de noter que Pandas est particulièrement adapté pour les manipulations de données légères ou pour des analyses où l’interopérabilité avec d’autres bibliothèques Python est cruciale.\n",
    "\n",
    "Ce tutoriel montre ainsi que Polars n’est pas simplement une alternative à Pandas, mais une solution complémentaire qui excelle pour les traitements intensifs. En utilisant Polars pour les gros volumes de données et Pandas pour les ensembles plus modestes, les analystes peuvent tirer le meilleur parti des deux outils pour optimiser leurs workflows d’analyse.\n",
    "\n",
    "Pour aller plus loin, dans les environnements de data engineering modernes, l’intégration de Polars ouvre de nouvelles perspectives pour les flux de données à grande échelle. Grâce à sa rapidité d’exécution et sa structure optimisée, Polars se prête particulièrement bien aux pipelines intensifs en données et pourrait être intégré avec des technologies comme Apache Arrow pour des systèmes distribués. En adoptant Polars, les analystes et data scientists disposent d’un outil qui leur permet de relever les défis de la science des données de demain, en combinant performance et flexibilité."
   ]
  }
 ],
 "metadata": {
  "kernelspec": {
   "display_name": "Python 3",
   "language": "python",
   "name": "python3"
  },
  "language_info": {
   "codemirror_mode": {
    "name": "ipython",
    "version": 3
   },
   "file_extension": ".py",
   "mimetype": "text/x-python",
   "name": "python",
   "nbconvert_exporter": "python",
   "pygments_lexer": "ipython3",
   "version": "3.9.6"
  }
 },
 "nbformat": 4,
 "nbformat_minor": 2
}
